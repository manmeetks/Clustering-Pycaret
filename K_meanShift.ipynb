{
  "nbformat": 4,
  "nbformat_minor": 0,
  "metadata": {
    "colab": {
      "provenance": []
    },
    "kernelspec": {
      "name": "python3",
      "display_name": "Python 3"
    },
    "language_info": {
      "name": "python"
    }
  },
  "cells": [
    {
      "cell_type": "code",
      "source": [
        "# Import necessary libraries\n",
        "import pandas as pd\n",
        "import numpy as np\n",
        "from sklearn.preprocessing import StandardScaler\n",
        "import matplotlib.pyplot as plt\n",
        "import seaborn as sns\n",
        "from sklearn.cluster import KMeans\n",
        "from sklearn.metrics import silhouette_score, calinski_harabasz_score, davies_bouldin_score\n"
      ],
      "metadata": {
        "id": "lpwjaiTmibgK"
      },
      "execution_count": 5,
      "outputs": []
    },
    {
      "cell_type": "code",
      "source": [],
      "metadata": {
        "id": "pBjD2ZUTVWGT"
      },
      "execution_count": null,
      "outputs": []
    },
    {
      "cell_type": "code",
      "source": [
        "\n",
        "from google.colab import files\n",
        "\n",
        "# Upload dataset file to Google Colab\n",
        "uploaded = files.upload()\n"
      ],
      "metadata": {
        "colab": {
          "base_uri": "https://localhost:8080/",
          "height": 73
        },
        "id": "_H74DW_3ice0",
        "outputId": "7addd157-37d9-497c-c868-522403b738e1"
      },
      "execution_count": 6,
      "outputs": [
        {
          "output_type": "display_data",
          "data": {
            "text/plain": [
              "<IPython.core.display.HTML object>"
            ],
            "text/html": [
              "\n",
              "     <input type=\"file\" id=\"files-6c6338d1-b6b7-4fbe-802e-dc8a87c576ec\" name=\"files[]\" multiple disabled\n",
              "        style=\"border:none\" />\n",
              "     <output id=\"result-6c6338d1-b6b7-4fbe-802e-dc8a87c576ec\">\n",
              "      Upload widget is only available when the cell has been executed in the\n",
              "      current browser session. Please rerun this cell to enable.\n",
              "      </output>\n",
              "      <script>// Copyright 2017 Google LLC\n",
              "//\n",
              "// Licensed under the Apache License, Version 2.0 (the \"License\");\n",
              "// you may not use this file except in compliance with the License.\n",
              "// You may obtain a copy of the License at\n",
              "//\n",
              "//      http://www.apache.org/licenses/LICENSE-2.0\n",
              "//\n",
              "// Unless required by applicable law or agreed to in writing, software\n",
              "// distributed under the License is distributed on an \"AS IS\" BASIS,\n",
              "// WITHOUT WARRANTIES OR CONDITIONS OF ANY KIND, either express or implied.\n",
              "// See the License for the specific language governing permissions and\n",
              "// limitations under the License.\n",
              "\n",
              "/**\n",
              " * @fileoverview Helpers for google.colab Python module.\n",
              " */\n",
              "(function(scope) {\n",
              "function span(text, styleAttributes = {}) {\n",
              "  const element = document.createElement('span');\n",
              "  element.textContent = text;\n",
              "  for (const key of Object.keys(styleAttributes)) {\n",
              "    element.style[key] = styleAttributes[key];\n",
              "  }\n",
              "  return element;\n",
              "}\n",
              "\n",
              "// Max number of bytes which will be uploaded at a time.\n",
              "const MAX_PAYLOAD_SIZE = 100 * 1024;\n",
              "\n",
              "function _uploadFiles(inputId, outputId) {\n",
              "  const steps = uploadFilesStep(inputId, outputId);\n",
              "  const outputElement = document.getElementById(outputId);\n",
              "  // Cache steps on the outputElement to make it available for the next call\n",
              "  // to uploadFilesContinue from Python.\n",
              "  outputElement.steps = steps;\n",
              "\n",
              "  return _uploadFilesContinue(outputId);\n",
              "}\n",
              "\n",
              "// This is roughly an async generator (not supported in the browser yet),\n",
              "// where there are multiple asynchronous steps and the Python side is going\n",
              "// to poll for completion of each step.\n",
              "// This uses a Promise to block the python side on completion of each step,\n",
              "// then passes the result of the previous step as the input to the next step.\n",
              "function _uploadFilesContinue(outputId) {\n",
              "  const outputElement = document.getElementById(outputId);\n",
              "  const steps = outputElement.steps;\n",
              "\n",
              "  const next = steps.next(outputElement.lastPromiseValue);\n",
              "  return Promise.resolve(next.value.promise).then((value) => {\n",
              "    // Cache the last promise value to make it available to the next\n",
              "    // step of the generator.\n",
              "    outputElement.lastPromiseValue = value;\n",
              "    return next.value.response;\n",
              "  });\n",
              "}\n",
              "\n",
              "/**\n",
              " * Generator function which is called between each async step of the upload\n",
              " * process.\n",
              " * @param {string} inputId Element ID of the input file picker element.\n",
              " * @param {string} outputId Element ID of the output display.\n",
              " * @return {!Iterable<!Object>} Iterable of next steps.\n",
              " */\n",
              "function* uploadFilesStep(inputId, outputId) {\n",
              "  const inputElement = document.getElementById(inputId);\n",
              "  inputElement.disabled = false;\n",
              "\n",
              "  const outputElement = document.getElementById(outputId);\n",
              "  outputElement.innerHTML = '';\n",
              "\n",
              "  const pickedPromise = new Promise((resolve) => {\n",
              "    inputElement.addEventListener('change', (e) => {\n",
              "      resolve(e.target.files);\n",
              "    });\n",
              "  });\n",
              "\n",
              "  const cancel = document.createElement('button');\n",
              "  inputElement.parentElement.appendChild(cancel);\n",
              "  cancel.textContent = 'Cancel upload';\n",
              "  const cancelPromise = new Promise((resolve) => {\n",
              "    cancel.onclick = () => {\n",
              "      resolve(null);\n",
              "    };\n",
              "  });\n",
              "\n",
              "  // Wait for the user to pick the files.\n",
              "  const files = yield {\n",
              "    promise: Promise.race([pickedPromise, cancelPromise]),\n",
              "    response: {\n",
              "      action: 'starting',\n",
              "    }\n",
              "  };\n",
              "\n",
              "  cancel.remove();\n",
              "\n",
              "  // Disable the input element since further picks are not allowed.\n",
              "  inputElement.disabled = true;\n",
              "\n",
              "  if (!files) {\n",
              "    return {\n",
              "      response: {\n",
              "        action: 'complete',\n",
              "      }\n",
              "    };\n",
              "  }\n",
              "\n",
              "  for (const file of files) {\n",
              "    const li = document.createElement('li');\n",
              "    li.append(span(file.name, {fontWeight: 'bold'}));\n",
              "    li.append(span(\n",
              "        `(${file.type || 'n/a'}) - ${file.size} bytes, ` +\n",
              "        `last modified: ${\n",
              "            file.lastModifiedDate ? file.lastModifiedDate.toLocaleDateString() :\n",
              "                                    'n/a'} - `));\n",
              "    const percent = span('0% done');\n",
              "    li.appendChild(percent);\n",
              "\n",
              "    outputElement.appendChild(li);\n",
              "\n",
              "    const fileDataPromise = new Promise((resolve) => {\n",
              "      const reader = new FileReader();\n",
              "      reader.onload = (e) => {\n",
              "        resolve(e.target.result);\n",
              "      };\n",
              "      reader.readAsArrayBuffer(file);\n",
              "    });\n",
              "    // Wait for the data to be ready.\n",
              "    let fileData = yield {\n",
              "      promise: fileDataPromise,\n",
              "      response: {\n",
              "        action: 'continue',\n",
              "      }\n",
              "    };\n",
              "\n",
              "    // Use a chunked sending to avoid message size limits. See b/62115660.\n",
              "    let position = 0;\n",
              "    do {\n",
              "      const length = Math.min(fileData.byteLength - position, MAX_PAYLOAD_SIZE);\n",
              "      const chunk = new Uint8Array(fileData, position, length);\n",
              "      position += length;\n",
              "\n",
              "      const base64 = btoa(String.fromCharCode.apply(null, chunk));\n",
              "      yield {\n",
              "        response: {\n",
              "          action: 'append',\n",
              "          file: file.name,\n",
              "          data: base64,\n",
              "        },\n",
              "      };\n",
              "\n",
              "      let percentDone = fileData.byteLength === 0 ?\n",
              "          100 :\n",
              "          Math.round((position / fileData.byteLength) * 100);\n",
              "      percent.textContent = `${percentDone}% done`;\n",
              "\n",
              "    } while (position < fileData.byteLength);\n",
              "  }\n",
              "\n",
              "  // All done.\n",
              "  yield {\n",
              "    response: {\n",
              "      action: 'complete',\n",
              "    }\n",
              "  };\n",
              "}\n",
              "\n",
              "scope.google = scope.google || {};\n",
              "scope.google.colab = scope.google.colab || {};\n",
              "scope.google.colab._files = {\n",
              "  _uploadFiles,\n",
              "  _uploadFilesContinue,\n",
              "};\n",
              "})(self);\n",
              "</script> "
            ]
          },
          "metadata": {}
        },
        {
          "output_type": "stream",
          "name": "stdout",
          "text": [
            "Saving exasens.zip to exasens (1).zip\n"
          ]
        }
      ]
    },
    {
      "cell_type": "code",
      "source": [
        "# Read the dataset into a Pandas DataFrame\n",
        "exasens_df = pd.read_csv('exasens.zip')\n"
      ],
      "metadata": {
        "id": "61Jvi5_giggh"
      },
      "execution_count": 7,
      "outputs": []
    },
    {
      "cell_type": "code",
      "source": [
        "# Drop columns with no useful information\n",
        "exasens_df = exasens_df.drop(columns=['Unnamed: 9', 'Unnamed: 10'])\n",
        "\n",
        "# Display unique values in columns \"Unnamed: 11\" and \"Unnamed: 12\"\n",
        "print(\"Unique values in Unnamed: 11:\", exasens_df[\"Unnamed: 11\"].unique())\n",
        "print(\"Unique values in Unnamed: 12:\", exasens_df[\"Unnamed: 12\"].unique())"
      ],
      "metadata": {
        "colab": {
          "base_uri": "https://localhost:8080/"
        },
        "id": "eF8g3iN2ijHH",
        "outputId": "776fc763-0d98-4580-af55-102b1307e548"
      },
      "execution_count": 8,
      "outputs": [
        {
          "output_type": "stream",
          "name": "stdout",
          "text": [
            "Unique values in Unnamed: 11: [nan 'Gender ' 'Male=1' 'Female=0']\n",
            "Unique values in Unnamed: 12: [nan 'Somking' 'Non-smoker=1' 'Ex-smoker=2' 'Active-smoker=3']\n"
          ]
        }
      ]
    },
    {
      "cell_type": "code",
      "source": [
        "# Map values in column \"Unnamed: 11\" to meaningful labels\n",
        "exasens_df[\"Gender\"] = exasens_df[\"Unnamed: 11\"].map({\"Male=1\": \"Male\", \"Female=0\": \"Female\"})\n",
        "\n",
        "# Map values in column \"Unnamed: 12\" to meaningful labels\n",
        "exasens_df[\"Smoking Status\"] = exasens_df[\"Unnamed: 12\"].map({\"Non-smoker=1\": \"Non-smoker\",\n",
        "                                                             \"Ex-smoker=2\": \"Ex-smoker\",\n",
        "                                                             \"Active-smoker=3\": \"Active-smoker\"})\n",
        "\n",
        "# Drop the original columns \"Unnamed: 11\" and \"Unnamed: 12\"\n",
        "exasens_df = exasens_df.drop(columns=[\"Unnamed: 11\", \"Unnamed: 12\"])\n",
        "# Drop the original column \"Unnamed: 3\"\n",
        "exasens_df = exasens_df.drop(columns=[\"Unnamed: 3\"])\n",
        "\n",
        "# Handle missing values in the \"Gender\" and \"Smoking Status\" columns\n",
        "exasens_df[\"Gender\"] = exasens_df[\"Gender\"].fillna(\"Unknown\")\n",
        "exasens_df[\"Smoking Status\"] = exasens_df[\"Smoking Status\"].fillna(\"Unknown\")\n",
        "\n",
        "# Display the updated DataFrame\n",
        "print(exasens_df.head())\n",
        "num_columns = exasens_df.shape[1]\n",
        "print(\"Number of columns in the DataFrame:\", num_columns)\n",
        "# Select relevant columns for clustering\n",
        "data = exasens_df[['Imaginary Part', 'Real Part', 'Age', 'Smoking']]\n",
        "\n",
        "# Drop rows with any missing values\n",
        "data = data.dropna()\n",
        "\n",
        "# Display the first few rows of the data\n",
        "print(data.head())\n"
      ],
      "metadata": {
        "colab": {
          "base_uri": "https://localhost:8080/"
        },
        "id": "sG0JR0_3ilWL",
        "outputId": "bbc413ca-3713-4668-931c-9fc7f1416015"
      },
      "execution_count": 9,
      "outputs": [
        {
          "output_type": "stream",
          "name": "stdout",
          "text": [
            "  Diagnosis     ID Imaginary Part Real Part    Unnamed: 5   Gender   Age  \\\n",
            "0       NaN    NaN            NaN       NaN           NaN  Unknown   NaN   \n",
            "1       NaN    NaN           Min       Min          Avg.   Unknown   NaN   \n",
            "2      COPD  301-4        -320.61   -495.26  -464.1719907     Male  77.0   \n",
            "3      COPD  302-3        -325.39   -473.73  -469.2631404   Female  72.0   \n",
            "4      COPD  303-3           -323   -476.12  -471.8976667  Unknown  73.0   \n",
            "\n",
            "   Smoking Smoking Status  \n",
            "0      NaN        Unknown  \n",
            "1      NaN        Unknown  \n",
            "2      2.0     Non-smoker  \n",
            "3      2.0      Ex-smoker  \n",
            "4      3.0  Active-smoker  \n",
            "Number of columns in the DataFrame: 9\n",
            "  Imaginary Part Real Part   Age  Smoking\n",
            "2        -320.61   -495.26  77.0      2.0\n",
            "3        -325.39   -473.73  72.0      2.0\n",
            "4           -323   -476.12  73.0      3.0\n",
            "5        -327.78   -473.73  76.0      2.0\n",
            "6        -325.39   -478.52  65.0      2.0\n"
          ]
        }
      ]
    },
    {
      "cell_type": "code",
      "source": [
        "from sklearn.cluster import MeanShift\n",
        "\n",
        "# Define cluster sizes\n",
        "cluster_sizes = [3, 4, 5]\n",
        "\n",
        "# Loop over cluster sizes\n",
        "for n_clusters in cluster_sizes:\n",
        "    # Mean Shift clustering with original data and specific cluster size\n",
        "    meanshift = MeanShift()\n",
        "    meanshift.fit(data)\n",
        "    labels = meanshift.labels_\n",
        "    silhouette_score_case1 = silhouette_score(data, labels)\n",
        "    calinski_harabasz_score_case1 = calinski_harabasz_score(data, labels)\n",
        "    davies_bouldin_score_case1 = davies_bouldin_score(data, labels)\n",
        "\n",
        "    print(f\"Cluster Size: {n_clusters}\")\n",
        "    print(\"Silhouette Score:\", silhouette_score_case1)\n",
        "    print(\"Calinski-Harabasz Score:\", calinski_harabasz_score_case1)\n",
        "    print(\"Davies-Bouldin Score:\", davies_bouldin_score_case1)\n",
        "    print()\n"
      ],
      "metadata": {
        "colab": {
          "base_uri": "https://localhost:8080/"
        },
        "id": "G_eQyzq5i0Ci",
        "outputId": "f6f0203a-1ba7-44f2-8b6b-8da1b38b274e"
      },
      "execution_count": 11,
      "outputs": [
        {
          "output_type": "stream",
          "name": "stdout",
          "text": [
            "Cluster Size: 3\n",
            "Silhouette Score: 0.6855317105485617\n",
            "Calinski-Harabasz Score: 153.4338250778248\n",
            "Davies-Bouldin Score: 0.267303856974941\n",
            "\n",
            "Cluster Size: 4\n",
            "Silhouette Score: 0.6855317105485617\n",
            "Calinski-Harabasz Score: 153.4338250778248\n",
            "Davies-Bouldin Score: 0.267303856974941\n",
            "\n",
            "Cluster Size: 5\n",
            "Silhouette Score: 0.6855317105485617\n",
            "Calinski-Harabasz Score: 153.4338250778248\n",
            "Davies-Bouldin Score: 0.267303856974941\n",
            "\n"
          ]
        }
      ]
    },
    {
      "cell_type": "code",
      "source": [
        "import numpy as np\n",
        "import matplotlib.pyplot as plt\n",
        "from sklearn.cluster import MeanShift\n",
        "from sklearn.metrics import pairwise_distances_argmin_min\n",
        "\n",
        "# Define cluster sizes\n",
        "cluster_sizes = np.arange(1, 12)\n",
        "\n",
        "# Initialize list to store distortion scores\n",
        "distortion_scores = []\n",
        "\n",
        "# Loop over cluster sizes\n",
        "for n_clusters in cluster_sizes:\n",
        "    # Mean Shift clustering\n",
        "    meanshift = MeanShift()\n",
        "    meanshift.fit(data)\n",
        "\n",
        "    # Find cluster centers\n",
        "    cluster_centers = meanshift.cluster_centers_\n",
        "\n",
        "    # Compute distances from each point to its nearest cluster center\n",
        "    distances = pairwise_distances_argmin_min(data, cluster_centers)[1]\n",
        "\n",
        "    # Compute distortion score\n",
        "    distortion_score = np.mean(distances)\n",
        "\n",
        "    # Append distortion score to list\n",
        "    distortion_scores.append(distortion_score)\n",
        "\n",
        "# Plot the elbow plot\n",
        "plt.plot(cluster_sizes, distortion_scores, marker='o')\n",
        "plt.title('Elbow Plot for Mean Shift Clustering')\n",
        "plt.xlabel('Number of Clusters')\n",
        "plt.ylabel('Distortion Score')\n",
        "plt.xticks(cluster_sizes)\n",
        "plt.grid(True)\n",
        "plt.show()\n"
      ],
      "metadata": {
        "colab": {
          "base_uri": "https://localhost:8080/",
          "height": 472
        },
        "id": "v_H8gE5ejtJ0",
        "outputId": "dd689f87-ab02-4d38-99b5-a0c8beb202af"
      },
      "execution_count": 12,
      "outputs": [
        {
          "output_type": "display_data",
          "data": {
            "text/plain": [
              "<Figure size 640x480 with 1 Axes>"
            ],
            "image/png": "[encoded data removed]"
          },
          "metadata": {}
        }
      ]
    },
    {
      "cell_type": "code",
      "source": [
        "from sklearn.preprocessing import StandardScaler\n",
        "\n",
        "# Step 1: Normalize the data\n",
        "scaler = StandardScaler()\n",
        "data_normalized = scaler.fit_transform(data)\n",
        "\n",
        "# Step 2: Define cluster sizes\n",
        "cluster_sizes = [3, 4, 5]\n",
        "\n",
        "# Step 3: Perform Mean Shift clustering and compute evaluation scores for each cluster size\n",
        "for n_clusters in cluster_sizes:\n",
        "    # Mean Shift clustering with normalized data\n",
        "    meanshift = MeanShift()\n",
        "    meanshift.fit(data_normalized)\n",
        "    labels = meanshift.labels_\n",
        "\n",
        "    # Compute evaluation scores\n",
        "    silhouette_score_case2 = silhouette_score(data_normalized, labels)\n",
        "    calinski_harabasz_score_case2 = calinski_harabasz_score(data_normalized, labels)\n",
        "    davies_bouldin_score_case2 = davies_bouldin_score(data_normalized, labels)\n",
        "\n",
        "    # Print evaluation scores\n",
        "    print(f\"Cluster Size: {n_clusters}\")\n",
        "    print(\"Silhouette Score:\", silhouette_score_case2)\n",
        "    print(\"Calinski-Harabasz Score:\", calinski_harabasz_score_case2)\n",
        "    print(\"Davies-Bouldin Score:\", davies_bouldin_score_case2)\n",
        "    print()\n"
      ],
      "metadata": {
        "colab": {
          "base_uri": "https://localhost:8080/"
        },
        "id": "LPz1BXukj-Jm",
        "outputId": "dc8e6ec8-0e92-4cad-c2c8-fc0c4f012f3d"
      },
      "execution_count": 13,
      "outputs": [
        {
          "output_type": "stream",
          "name": "stdout",
          "text": [
            "Cluster Size: 3\n",
            "Silhouette Score: 0.45583582588001575\n",
            "Calinski-Harabasz Score: 24.864785084373093\n",
            "Davies-Bouldin Score: 0.43190867185624926\n",
            "\n",
            "Cluster Size: 4\n",
            "Silhouette Score: 0.45583582588001575\n",
            "Calinski-Harabasz Score: 24.864785084373093\n",
            "Davies-Bouldin Score: 0.43190867185624926\n",
            "\n",
            "Cluster Size: 5\n",
            "Silhouette Score: 0.45583582588001575\n",
            "Calinski-Harabasz Score: 24.864785084373093\n",
            "Davies-Bouldin Score: 0.43190867185624926\n",
            "\n"
          ]
        }
      ]
    },
    {
      "cell_type": "code",
      "source": [
        "from sklearn.manifold import TSNE\n",
        "\n",
        "# Step 1: Apply t-SNE to reduce the dimensionality of the data\n",
        "tsne = TSNE(n_components=2, random_state=42)\n",
        "data_transformed = tsne.fit_transform(data)\n",
        "\n",
        "# Step 2: Define cluster sizes\n",
        "cluster_sizes = [3, 4, 5]\n",
        "\n",
        "# Step 3: Perform Mean Shift clustering and compute evaluation scores for each cluster size\n",
        "for n_clusters in cluster_sizes:\n",
        "    # Mean Shift clustering with transformed data\n",
        "    meanshift = MeanShift()\n",
        "    meanshift.fit(data_transformed)\n",
        "    labels = meanshift.labels_\n",
        "\n",
        "    # Compute evaluation scores\n",
        "    silhouette_score_case3 = silhouette_score(data_transformed, labels)\n",
        "    calinski_harabasz_score_case3 = calinski_harabasz_score(data_transformed, labels)\n",
        "    davies_bouldin_score_case3 = davies_bouldin_score(data_transformed, labels)\n",
        "\n",
        "    # Print evaluation scores\n",
        "    print(f\"Cluster Size: {n_clusters}\")\n",
        "    print(\"Silhouette Score:\", silhouette_score_case3)\n",
        "    print(\"Calinski-Harabasz Score:\", calinski_harabasz_score_case3)\n",
        "    print(\"Davies-Bouldin Score:\", davies_bouldin_score_case3)\n",
        "    print()\n"
      ],
      "metadata": {
        "colab": {
          "base_uri": "https://localhost:8080/"
        },
        "id": "k0v8jMbvkhE9",
        "outputId": "f85567f2-b067-4769-b640-c797c43dd424"
      },
      "execution_count": 14,
      "outputs": [
        {
          "output_type": "stream",
          "name": "stdout",
          "text": [
            "Cluster Size: 3\n",
            "Silhouette Score: 0.5251995\n",
            "Calinski-Harabasz Score: 129.26723010669681\n",
            "Davies-Bouldin Score: 0.5623147124000593\n",
            "\n",
            "Cluster Size: 4\n",
            "Silhouette Score: 0.5251995\n",
            "Calinski-Harabasz Score: 129.26723010669681\n",
            "Davies-Bouldin Score: 0.5623147124000593\n",
            "\n",
            "Cluster Size: 5\n",
            "Silhouette Score: 0.5251995\n",
            "Calinski-Harabasz Score: 129.26723010669681\n",
            "Davies-Bouldin Score: 0.5623147124000593\n",
            "\n"
          ]
        }
      ]
    },
    {
      "cell_type": "code",
      "source": [
        "from sklearn.decomposition import PCA\n",
        "\n",
        "# Step 1: Apply PCA to reduce the dimensionality of the data\n",
        "pca = PCA(n_components=2, random_state=42)\n",
        "data_pca = pca.fit_transform(data)\n",
        "\n",
        "# Step 2: Define cluster sizes\n",
        "cluster_sizes = [3, 4, 5]\n",
        "\n",
        "# Step 3: Perform Mean Shift clustering and compute evaluation scores for each cluster size\n",
        "for n_clusters in cluster_sizes:\n",
        "    # Mean Shift clustering with PCA-transformed data\n",
        "    meanshift = MeanShift()\n",
        "    labels = meanshift.fit_predict(data_pca)\n",
        "\n",
        "    # Compute evaluation scores\n",
        "    silhouette_score_case4 = silhouette_score(data_pca, labels)\n",
        "    calinski_harabasz_score_case4 = calinski_harabasz_score(data_pca, labels)\n",
        "    davies_bouldin_score_case4 = davies_bouldin_score(data_pca, labels)\n",
        "\n",
        "    # Print evaluation scores\n",
        "    print(f\"Cluster Size: {n_clusters}\")\n",
        "    print(\"Silhouette Score:\", silhouette_score_case4)\n",
        "    print(\"Calinski-Harabasz Score:\", calinski_harabasz_score_case4)\n",
        "    print(\"Davies-Bouldin Score:\", davies_bouldin_score_case4)\n",
        "    print()\n"
      ],
      "metadata": {
        "colab": {
          "base_uri": "https://localhost:8080/"
        },
        "id": "fltLpMqRklnl",
        "outputId": "ec55f5b8-5282-4c38-b63d-3c403550cbab"
      },
      "execution_count": 16,
      "outputs": [
        {
          "output_type": "stream",
          "name": "stdout",
          "text": [
            "Cluster Size: 3\n",
            "Silhouette Score: 0.6755236352429237\n",
            "Calinski-Harabasz Score: 765.0099881395321\n",
            "Davies-Bouldin Score: 0.2876327730438469\n",
            "\n",
            "Cluster Size: 4\n",
            "Silhouette Score: 0.6755236352429237\n",
            "Calinski-Harabasz Score: 765.0099881395321\n",
            "Davies-Bouldin Score: 0.2876327730438469\n",
            "\n",
            "Cluster Size: 5\n",
            "Silhouette Score: 0.6755236352429237\n",
            "Calinski-Harabasz Score: 765.0099881395321\n",
            "Davies-Bouldin Score: 0.2876327730438469\n",
            "\n"
          ]
        }
      ]
    },
    {
      "cell_type": "code",
      "source": [
        "from sklearn.preprocessing import StandardScaler\n",
        "from sklearn.decomposition import PCA\n",
        "from sklearn.manifold import TSNE\n",
        "\n",
        "# Step 1: Normalize the data\n",
        "scaler = StandardScaler()\n",
        "data_normalized = scaler.fit_transform(data)\n",
        "\n",
        "# Step 2: Apply PCA for dimensionality reduction\n",
        "pca = PCA(n_components=2, random_state=42)\n",
        "data_pca = pca.fit_transform(data_normalized)\n",
        "\n",
        "# Step 3: Apply t-SNE for further dimensionality reduction\n",
        "tsne = TSNE(n_components=2, random_state=42)\n",
        "data_transformed = tsne.fit_transform(data_pca)\n",
        "\n",
        "# Step 4: Define cluster sizes\n",
        "cluster_sizes = [3, 4, 5]\n",
        "\n",
        "# Step 5: Perform Mean Shift clustering and compute evaluation scores for each cluster size\n",
        "for n_clusters in cluster_sizes:\n",
        "    # Mean Shift clustering with normalized and transformed data\n",
        "    meanshift = MeanShift()\n",
        "    labels = meanshift.fit_predict(data_transformed)\n",
        "\n",
        "    # Compute evaluation scores\n",
        "    silhouette_score_case5 = silhouette_score(data_transformed, labels)\n",
        "    calinski_harabasz_score_case5 = calinski_harabasz_score(data_transformed, labels)\n",
        "    davies_bouldin_score_case5 = davies_bouldin_score(data_transformed, labels)\n",
        "\n",
        "    # Print evaluation scores\n",
        "    print(f\"Cluster Size: {n_clusters}\")\n",
        "    print(\"Silhouette Score:\", silhouette_score_case5)\n",
        "    print(\"Calinski-Harabasz Score:\", calinski_harabasz_score_case5)\n",
        "    print(\"Davies-Bouldin Score:\", davies_bouldin_score_case5)\n",
        "    print()\n"
      ],
      "metadata": {
        "colab": {
          "base_uri": "https://localhost:8080/"
        },
        "id": "dBF_UMXylRkJ",
        "outputId": "1bead33a-3868-463b-8582-12f9775da28a"
      },
      "execution_count": 17,
      "outputs": [
        {
          "output_type": "stream",
          "name": "stdout",
          "text": [
            "Cluster Size: 3\n",
            "Silhouette Score: 0.6215599\n",
            "Calinski-Harabasz Score: 336.7714845871806\n",
            "Davies-Bouldin Score: 0.46939279710956994\n",
            "\n",
            "Cluster Size: 4\n",
            "Silhouette Score: 0.6215599\n",
            "Calinski-Harabasz Score: 336.7714845871806\n",
            "Davies-Bouldin Score: 0.46939279710956994\n",
            "\n",
            "Cluster Size: 5\n",
            "Silhouette Score: 0.6215599\n",
            "Calinski-Harabasz Score: 336.7714845871806\n",
            "Davies-Bouldin Score: 0.46939279710956994\n",
            "\n"
          ]
        }
      ]
    },
    {
      "cell_type": "code",
      "source": [
        "from sklearn.preprocessing import StandardScaler\n",
        "from sklearn.decomposition import PCA\n",
        "from sklearn.manifold import TSNE\n",
        "\n",
        "# Step 1: Normalize the data\n",
        "scaler = StandardScaler()\n",
        "data_normalized = scaler.fit_transform(data)\n",
        "\n",
        "# Step 2: Apply PCA for dimensionality reduction\n",
        "pca = PCA(n_components=2, random_state=42)\n",
        "data_pca = pca.fit_transform(data_normalized)\n",
        "\n",
        "# Step 3: Apply t-SNE for further dimensionality reduction\n",
        "tsne = TSNE(n_components=2, random_state=42)\n",
        "data_transformed = tsne.fit_transform(data_pca)\n",
        "\n",
        "# Step 4: Define cluster sizes\n",
        "cluster_sizes = [3, 4, 5]\n",
        "\n",
        "# Step 5: Perform Mean Shift clustering and compute evaluation scores for each cluster size\n",
        "for n_clusters in cluster_sizes:\n",
        "    # Mean Shift clustering with normalized, PCA-transformed, and t-SNE-transformed data\n",
        "    meanshift = MeanShift()\n",
        "    labels = meanshift.fit_predict(data_transformed)\n",
        "\n",
        "    # Compute evaluation scores\n",
        "    silhouette_score_case6 = silhouette_score(data_transformed, labels)\n",
        "    calinski_harabasz_score_case6 = calinski_harabasz_score(data_transformed, labels)\n",
        "    davies_bouldin_score_case6 = davies_bouldin_score(data_transformed, labels)\n",
        "\n",
        "    # Print evaluation scores\n",
        "    print(f\"Cluster Size: {n_clusters}\")\n",
        "    print(\"Silhouette Score:\", silhouette_score_case6)\n",
        "    print(\"Calinski-Harabasz Score:\", calinski_harabasz_score_case6)\n",
        "    print(\"Davies-Bouldin Score:\", davies_bouldin_score_case6)\n",
        "    print()\n"
      ],
      "metadata": {
        "colab": {
          "base_uri": "https://localhost:8080/"
        },
        "id": "sV4aAh5DlgZI",
        "outputId": "ea188436-6957-4abb-a115-04ba3ecd5465"
      },
      "execution_count": 18,
      "outputs": [
        {
          "output_type": "stream",
          "name": "stdout",
          "text": [
            "Cluster Size: 3\n",
            "Silhouette Score: 0.6215599\n",
            "Calinski-Harabasz Score: 336.7714845871806\n",
            "Davies-Bouldin Score: 0.46939279710956994\n",
            "\n",
            "Cluster Size: 4\n",
            "Silhouette Score: 0.6215599\n",
            "Calinski-Harabasz Score: 336.7714845871806\n",
            "Davies-Bouldin Score: 0.46939279710956994\n",
            "\n",
            "Cluster Size: 5\n",
            "Silhouette Score: 0.6215599\n",
            "Calinski-Harabasz Score: 336.7714845871806\n",
            "Davies-Bouldin Score: 0.46939279710956994\n",
            "\n"
          ]
        }
      ]
    }
  ]
}