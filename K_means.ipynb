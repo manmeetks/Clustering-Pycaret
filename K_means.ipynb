{
  "nbformat": 4,
  "nbformat_minor": 0,
  "metadata": {
    "colab": {
      "provenance": []
    },
    "kernelspec": {
      "name": "python3",
      "display_name": "Python 3"
    },
    "language_info": {
      "name": "python"
    }
  },
  "cells": [
    {
      "cell_type": "code",
      "source": [
        "# Import necessary libraries\n",
        "import pandas as pd\n",
        "import numpy as np\n",
        "from sklearn.preprocessing import StandardScaler\n",
        "import matplotlib.pyplot as plt\n",
        "import seaborn as sns\n",
        "from sklearn.cluster import KMeans\n",
        "from sklearn.metrics import silhouette_score, calinski_harabasz_score, davies_bouldin_score\n"
      ],
      "metadata": {
        "id": "kMBpise3-_qj"
      },
      "execution_count": 1,
      "outputs": []
    },
    {
      "cell_type": "code",
      "source": [
        "\n",
        "from google.colab import files\n",
        "\n",
        "# Upload dataset file to Google Colab\n",
        "uploaded = files.upload()"
      ],
      "metadata": {
        "colab": {
          "base_uri": "https://localhost:8080/",
          "height": 73
        },
        "id": "qvPHVGZRFzzQ",
        "outputId": "ba1f05e9-45c3-41fb-cd6b-48b9c3ec72df"
      },
      "execution_count": 2,
      "outputs": [
        {
          "output_type": "display_data",
          "data": {
            "text/plain": [
              "<IPython.core.display.HTML object>"
            ],
            "text/html": [
              "\n",
              "     <input type=\"file\" id=\"files-12d834e1-3f15-4e0c-93ef-3474a1ed9501\" name=\"files[]\" multiple disabled\n",
              "        style=\"border:none\" />\n",
              "     <output id=\"result-12d834e1-3f15-4e0c-93ef-3474a1ed9501\">\n",
              "      Upload widget is only available when the cell has been executed in the\n",
              "      current browser session. Please rerun this cell to enable.\n",
              "      </output>\n",
              "      <script>// Copyright 2017 Google LLC\n",
              "//\n",
              "// Licensed under the Apache License, Version 2.0 (the \"License\");\n",
              "// you may not use this file except in compliance with the License.\n",
              "// You may obtain a copy of the License at\n",
              "//\n",
              "//      http://www.apache.org/licenses/LICENSE-2.0\n",
              "//\n",
              "// Unless required by applicable law or agreed to in writing, software\n",
              "// distributed under the License is distributed on an \"AS IS\" BASIS,\n",
              "// WITHOUT WARRANTIES OR CONDITIONS OF ANY KIND, either express or implied.\n",
              "// See the License for the specific language governing permissions and\n",
              "// limitations under the License.\n",
              "\n",
              "/**\n",
              " * @fileoverview Helpers for google.colab Python module.\n",
              " */\n",
              "(function(scope) {\n",
              "function span(text, styleAttributes = {}) {\n",
              "  const element = document.createElement('span');\n",
              "  element.textContent = text;\n",
              "  for (const key of Object.keys(styleAttributes)) {\n",
              "    element.style[key] = styleAttributes[key];\n",
              "  }\n",
              "  return element;\n",
              "}\n",
              "\n",
              "// Max number of bytes which will be uploaded at a time.\n",
              "const MAX_PAYLOAD_SIZE = 100 * 1024;\n",
              "\n",
              "function _uploadFiles(inputId, outputId) {\n",
              "  const steps = uploadFilesStep(inputId, outputId);\n",
              "  const outputElement = document.getElementById(outputId);\n",
              "  // Cache steps on the outputElement to make it available for the next call\n",
              "  // to uploadFilesContinue from Python.\n",
              "  outputElement.steps = steps;\n",
              "\n",
              "  return _uploadFilesContinue(outputId);\n",
              "}\n",
              "\n",
              "// This is roughly an async generator (not supported in the browser yet),\n",
              "// where there are multiple asynchronous steps and the Python side is going\n",
              "// to poll for completion of each step.\n",
              "// This uses a Promise to block the python side on completion of each step,\n",
              "// then passes the result of the previous step as the input to the next step.\n",
              "function _uploadFilesContinue(outputId) {\n",
              "  const outputElement = document.getElementById(outputId);\n",
              "  const steps = outputElement.steps;\n",
              "\n",
              "  const next = steps.next(outputElement.lastPromiseValue);\n",
              "  return Promise.resolve(next.value.promise).then((value) => {\n",
              "    // Cache the last promise value to make it available to the next\n",
              "    // step of the generator.\n",
              "    outputElement.lastPromiseValue = value;\n",
              "    return next.value.response;\n",
              "  });\n",
              "}\n",
              "\n",
              "/**\n",
              " * Generator function which is called between each async step of the upload\n",
              " * process.\n",
              " * @param {string} inputId Element ID of the input file picker element.\n",
              " * @param {string} outputId Element ID of the output display.\n",
              " * @return {!Iterable<!Object>} Iterable of next steps.\n",
              " */\n",
              "function* uploadFilesStep(inputId, outputId) {\n",
              "  const inputElement = document.getElementById(inputId);\n",
              "  inputElement.disabled = false;\n",
              "\n",
              "  const outputElement = document.getElementById(outputId);\n",
              "  outputElement.innerHTML = '';\n",
              "\n",
              "  const pickedPromise = new Promise((resolve) => {\n",
              "    inputElement.addEventListener('change', (e) => {\n",
              "      resolve(e.target.files);\n",
              "    });\n",
              "  });\n",
              "\n",
              "  const cancel = document.createElement('button');\n",
              "  inputElement.parentElement.appendChild(cancel);\n",
              "  cancel.textContent = 'Cancel upload';\n",
              "  const cancelPromise = new Promise((resolve) => {\n",
              "    cancel.onclick = () => {\n",
              "      resolve(null);\n",
              "    };\n",
              "  });\n",
              "\n",
              "  // Wait for the user to pick the files.\n",
              "  const files = yield {\n",
              "    promise: Promise.race([pickedPromise, cancelPromise]),\n",
              "    response: {\n",
              "      action: 'starting',\n",
              "    }\n",
              "  };\n",
              "\n",
              "  cancel.remove();\n",
              "\n",
              "  // Disable the input element since further picks are not allowed.\n",
              "  inputElement.disabled = true;\n",
              "\n",
              "  if (!files) {\n",
              "    return {\n",
              "      response: {\n",
              "        action: 'complete',\n",
              "      }\n",
              "    };\n",
              "  }\n",
              "\n",
              "  for (const file of files) {\n",
              "    const li = document.createElement('li');\n",
              "    li.append(span(file.name, {fontWeight: 'bold'}));\n",
              "    li.append(span(\n",
              "        `(${file.type || 'n/a'}) - ${file.size} bytes, ` +\n",
              "        `last modified: ${\n",
              "            file.lastModifiedDate ? file.lastModifiedDate.toLocaleDateString() :\n",
              "                                    'n/a'} - `));\n",
              "    const percent = span('0% done');\n",
              "    li.appendChild(percent);\n",
              "\n",
              "    outputElement.appendChild(li);\n",
              "\n",
              "    const fileDataPromise = new Promise((resolve) => {\n",
              "      const reader = new FileReader();\n",
              "      reader.onload = (e) => {\n",
              "        resolve(e.target.result);\n",
              "      };\n",
              "      reader.readAsArrayBuffer(file);\n",
              "    });\n",
              "    // Wait for the data to be ready.\n",
              "    let fileData = yield {\n",
              "      promise: fileDataPromise,\n",
              "      response: {\n",
              "        action: 'continue',\n",
              "      }\n",
              "    };\n",
              "\n",
              "    // Use a chunked sending to avoid message size limits. See b/62115660.\n",
              "    let position = 0;\n",
              "    do {\n",
              "      const length = Math.min(fileData.byteLength - position, MAX_PAYLOAD_SIZE);\n",
              "      const chunk = new Uint8Array(fileData, position, length);\n",
              "      position += length;\n",
              "\n",
              "      const base64 = btoa(String.fromCharCode.apply(null, chunk));\n",
              "      yield {\n",
              "        response: {\n",
              "          action: 'append',\n",
              "          file: file.name,\n",
              "          data: base64,\n",
              "        },\n",
              "      };\n",
              "\n",
              "      let percentDone = fileData.byteLength === 0 ?\n",
              "          100 :\n",
              "          Math.round((position / fileData.byteLength) * 100);\n",
              "      percent.textContent = `${percentDone}% done`;\n",
              "\n",
              "    } while (position < fileData.byteLength);\n",
              "  }\n",
              "\n",
              "  // All done.\n",
              "  yield {\n",
              "    response: {\n",
              "      action: 'complete',\n",
              "    }\n",
              "  };\n",
              "}\n",
              "\n",
              "scope.google = scope.google || {};\n",
              "scope.google.colab = scope.google.colab || {};\n",
              "scope.google.colab._files = {\n",
              "  _uploadFiles,\n",
              "  _uploadFilesContinue,\n",
              "};\n",
              "})(self);\n",
              "</script> "
            ]
          },
          "metadata": {}
        },
        {
          "output_type": "stream",
          "name": "stdout",
          "text": [
            "Saving exasens.zip to exasens.zip\n"
          ]
        }
      ]
    },
    {
      "cell_type": "code",
      "source": [
        "# Read the dataset into a Pandas DataFrame\n",
        "exasens_df = pd.read_csv('exasens.zip')\n"
      ],
      "metadata": {
        "id": "UfZCB-m0F96G"
      },
      "execution_count": 3,
      "outputs": []
    },
    {
      "cell_type": "code",
      "source": [
        "\n",
        "# Display the first few rows of the DataFrame\n",
        "print(exasens_df.head())\n",
        "\n"
      ],
      "metadata": {
        "colab": {
          "base_uri": "https://localhost:8080/"
        },
        "id": "PiuwHlZ2GRV8",
        "outputId": "cd380c13-2914-49d9-d08d-c50bdac4a38a"
      },
      "execution_count": 4,
      "outputs": [
        {
          "output_type": "stream",
          "name": "stdout",
          "text": [
            "  Diagnosis     ID Imaginary Part    Unnamed: 3 Real Part    Unnamed: 5  \\\n",
            "0       NaN    NaN            NaN           NaN       NaN           NaN   \n",
            "1       NaN    NaN           Min          Avg.       Min          Avg.    \n",
            "2      COPD  301-4        -320.61  -300.5635307   -495.26  -464.1719907   \n",
            "3      COPD  302-3        -325.39  -314.7503595   -473.73  -469.2631404   \n",
            "4      COPD  303-3           -323  -317.4360556   -476.12  -471.8976667   \n",
            "\n",
            "   Gender   Age  Smoking  Unnamed: 9  Unnamed: 10 Unnamed: 11      Unnamed: 12  \n",
            "0     NaN   NaN      NaN         NaN          NaN         NaN              NaN  \n",
            "1     NaN   NaN      NaN         NaN          NaN     Gender           Somking  \n",
            "2     1.0  77.0      2.0         NaN          NaN      Male=1     Non-smoker=1  \n",
            "3     0.0  72.0      2.0         NaN          NaN    Female=0      Ex-smoker=2  \n",
            "4     1.0  73.0      3.0         NaN          NaN         NaN  Active-smoker=3  \n"
          ]
        }
      ]
    },
    {
      "cell_type": "code",
      "source": [
        "\n",
        "# Check for missing values\n",
        "print(exasens_df.isnull().sum())\n"
      ],
      "metadata": {
        "id": "wkAmwERQTp1A",
        "outputId": "492bf08f-1e59-431b-b6a7-231f33f8403d",
        "colab": {
          "base_uri": "https://localhost:8080/"
        }
      },
      "execution_count": 5,
      "outputs": [
        {
          "output_type": "stream",
          "name": "stdout",
          "text": [
            "Diagnosis           2\n",
            "ID                  2\n",
            "Imaginary Part    300\n",
            "Unnamed: 3        300\n",
            "Real Part         300\n",
            "Unnamed: 5        300\n",
            "Gender              2\n",
            "Age                 2\n",
            "Smoking             2\n",
            "Unnamed: 9        401\n",
            "Unnamed: 10       401\n",
            "Unnamed: 11       398\n",
            "Unnamed: 12       397\n",
            "dtype: int64\n"
          ]
        }
      ]
    },
    {
      "cell_type": "code",
      "source": [
        "\n",
        "# Perform basic data exploration\n",
        "print(exasens_df.info())\n",
        "print(exasens_df.describe())"
      ],
      "metadata": {
        "id": "WFIGgjqETzL2",
        "outputId": "6669eb5c-4a0c-4d2b-ec53-7c70199f8468",
        "colab": {
          "base_uri": "https://localhost:8080/"
        }
      },
      "execution_count": 6,
      "outputs": [
        {
          "output_type": "stream",
          "name": "stdout",
          "text": [
            "<class 'pandas.core.frame.DataFrame'>\n",
            "RangeIndex: 401 entries, 0 to 400\n",
            "Data columns (total 13 columns):\n",
            " #   Column          Non-Null Count  Dtype  \n",
            "---  ------          --------------  -----  \n",
            " 0   Diagnosis       399 non-null    object \n",
            " 1   ID              399 non-null    object \n",
            " 2   Imaginary Part  101 non-null    object \n",
            " 3   Unnamed: 3      101 non-null    object \n",
            " 4   Real Part       101 non-null    object \n",
            " 5   Unnamed: 5      101 non-null    object \n",
            " 6   Gender          399 non-null    float64\n",
            " 7   Age             399 non-null    float64\n",
            " 8   Smoking         399 non-null    float64\n",
            " 9   Unnamed: 9      0 non-null      float64\n",
            " 10  Unnamed: 10     0 non-null      float64\n",
            " 11  Unnamed: 11     3 non-null      object \n",
            " 12  Unnamed: 12     4 non-null      object \n",
            "dtypes: float64(5), object(8)\n",
            "memory usage: 40.9+ KB\n",
            "None\n",
            "           Gender         Age     Smoking  Unnamed: 9  Unnamed: 10\n",
            "count  399.000000  399.000000  399.000000         0.0          0.0\n",
            "mean     0.398496   48.736842    1.726817         NaN          NaN\n",
            "std      0.490203   18.566962    0.742167         NaN          NaN\n",
            "min      0.000000   17.000000    1.000000         NaN          NaN\n",
            "25%      0.000000   31.000000    1.000000         NaN          NaN\n",
            "50%      0.000000   49.000000    2.000000         NaN          NaN\n",
            "75%      1.000000   64.000000    2.000000         NaN          NaN\n",
            "max      1.000000   93.000000    3.000000         NaN          NaN\n"
          ]
        }
      ]
    },
    {
      "cell_type": "code",
      "source": [
        "# Drop columns with no useful information\n",
        "exasens_df = exasens_df.drop(columns=['Unnamed: 9', 'Unnamed: 10'])\n",
        "\n",
        "# Display unique values in columns \"Unnamed: 11\" and \"Unnamed: 12\"\n",
        "print(\"Unique values in Unnamed: 11:\", exasens_df[\"Unnamed: 11\"].unique())\n",
        "print(\"Unique values in Unnamed: 12:\", exasens_df[\"Unnamed: 12\"].unique())\n"
      ],
      "metadata": {
        "id": "BloQ0OUdUdrj",
        "outputId": "0c6c2d24-62b0-4d81-bea4-bd5f285f7f23",
        "colab": {
          "base_uri": "https://localhost:8080/"
        }
      },
      "execution_count": 7,
      "outputs": [
        {
          "output_type": "stream",
          "name": "stdout",
          "text": [
            "Unique values in Unnamed: 11: [nan 'Gender ' 'Male=1' 'Female=0']\n",
            "Unique values in Unnamed: 12: [nan 'Somking' 'Non-smoker=1' 'Ex-smoker=2' 'Active-smoker=3']\n"
          ]
        }
      ]
    },
    {
      "cell_type": "code",
      "source": [
        "# Map values in column \"Unnamed: 11\" to meaningful labels\n",
        "exasens_df[\"Gender\"] = exasens_df[\"Unnamed: 11\"].map({\"Male=1\": \"Male\", \"Female=0\": \"Female\"})\n",
        "\n",
        "# Map values in column \"Unnamed: 12\" to meaningful labels\n",
        "exasens_df[\"Smoking Status\"] = exasens_df[\"Unnamed: 12\"].map({\"Non-smoker=1\": \"Non-smoker\",\n",
        "                                                             \"Ex-smoker=2\": \"Ex-smoker\",\n",
        "                                                             \"Active-smoker=3\": \"Active-smoker\"})\n",
        "\n",
        "# Drop the original columns \"Unnamed: 11\" and \"Unnamed: 12\"\n",
        "exasens_df = exasens_df.drop(columns=[\"Unnamed: 11\", \"Unnamed: 12\"])\n",
        "\n",
        "# Display the updated DataFrame\n",
        "print(exasens_df.head())\n"
      ],
      "metadata": {
        "id": "qyHY_wX_UkDg",
        "outputId": "0d10e012-481d-4c97-fe84-5535564d197e",
        "colab": {
          "base_uri": "https://localhost:8080/"
        }
      },
      "execution_count": 8,
      "outputs": [
        {
          "output_type": "stream",
          "name": "stdout",
          "text": [
            "  Diagnosis     ID Imaginary Part    Unnamed: 3 Real Part    Unnamed: 5  \\\n",
            "0       NaN    NaN            NaN           NaN       NaN           NaN   \n",
            "1       NaN    NaN           Min          Avg.       Min          Avg.    \n",
            "2      COPD  301-4        -320.61  -300.5635307   -495.26  -464.1719907   \n",
            "3      COPD  302-3        -325.39  -314.7503595   -473.73  -469.2631404   \n",
            "4      COPD  303-3           -323  -317.4360556   -476.12  -471.8976667   \n",
            "\n",
            "   Gender   Age  Smoking Smoking Status  \n",
            "0     NaN   NaN      NaN            NaN  \n",
            "1     NaN   NaN      NaN            NaN  \n",
            "2    Male  77.0      2.0     Non-smoker  \n",
            "3  Female  72.0      2.0      Ex-smoker  \n",
            "4     NaN  73.0      3.0  Active-smoker  \n"
          ]
        }
      ]
    },
    {
      "cell_type": "code",
      "source": [
        "# Drop the original column \"Unnamed: 3\"\n",
        "exasens_df = exasens_df.drop(columns=[\"Unnamed: 3\"])\n",
        "\n",
        "# Handle missing values in the \"Gender\" and \"Smoking Status\" columns\n",
        "exasens_df[\"Gender\"] = exasens_df[\"Gender\"].fillna(\"Unknown\")\n",
        "exasens_df[\"Smoking Status\"] = exasens_df[\"Smoking Status\"].fillna(\"Unknown\")\n",
        "\n",
        "# Display the updated DataFrame\n",
        "print(exasens_df.head())\n"
      ],
      "metadata": {
        "id": "WQhNUei2UynB",
        "outputId": "e7e8ffce-73a5-49d2-d17d-0bd6097670a1",
        "colab": {
          "base_uri": "https://localhost:8080/"
        }
      },
      "execution_count": 9,
      "outputs": [
        {
          "output_type": "stream",
          "name": "stdout",
          "text": [
            "  Diagnosis     ID Imaginary Part Real Part    Unnamed: 5   Gender   Age  \\\n",
            "0       NaN    NaN            NaN       NaN           NaN  Unknown   NaN   \n",
            "1       NaN    NaN           Min       Min          Avg.   Unknown   NaN   \n",
            "2      COPD  301-4        -320.61   -495.26  -464.1719907     Male  77.0   \n",
            "3      COPD  302-3        -325.39   -473.73  -469.2631404   Female  72.0   \n",
            "4      COPD  303-3           -323   -476.12  -471.8976667  Unknown  73.0   \n",
            "\n",
            "   Smoking Smoking Status  \n",
            "0      NaN        Unknown  \n",
            "1      NaN        Unknown  \n",
            "2      2.0     Non-smoker  \n",
            "3      2.0      Ex-smoker  \n",
            "4      3.0  Active-smoker  \n"
          ]
        }
      ]
    },
    {
      "cell_type": "code",
      "source": [
        "num_columns = exasens_df.shape[1]\n",
        "print(\"Number of columns in the DataFrame:\", num_columns)\n"
      ],
      "metadata": {
        "id": "iSPkr-m6U3JC",
        "outputId": "6a4b2661-2372-48d8-b0ae-e087ddf7a278",
        "colab": {
          "base_uri": "https://localhost:8080/"
        }
      },
      "execution_count": 10,
      "outputs": [
        {
          "output_type": "stream",
          "name": "stdout",
          "text": [
            "Number of columns in the DataFrame: 9\n"
          ]
        }
      ]
    },
    {
      "cell_type": "code",
      "source": [
        "# Select relevant columns for clustering\n",
        "data = exasens_df[['Imaginary Part', 'Real Part', 'Age', 'Smoking']]\n",
        "\n",
        "# Drop rows with any missing values\n",
        "data = data.dropna()\n",
        "\n",
        "# Display the first few rows of the data\n",
        "print(data.head())\n"
      ],
      "metadata": {
        "id": "BLgaaVb2VRk9",
        "outputId": "98de9649-b275-4ad2-8cd6-dc4f5a38c098",
        "colab": {
          "base_uri": "https://localhost:8080/"
        }
      },
      "execution_count": 11,
      "outputs": [
        {
          "output_type": "stream",
          "name": "stdout",
          "text": [
            "  Imaginary Part Real Part   Age  Smoking\n",
            "2        -320.61   -495.26  77.0      2.0\n",
            "3        -325.39   -473.73  72.0      2.0\n",
            "4           -323   -476.12  73.0      3.0\n",
            "5        -327.78   -473.73  76.0      2.0\n",
            "6        -325.39   -478.52  65.0      2.0\n"
          ]
        }
      ]
    },
    {
      "cell_type": "code",
      "source": [
        "#case 1\n",
        "\n",
        "from sklearn.cluster import KMeans\n",
        "from sklearn.metrics import silhouette_score, calinski_harabasz_score, davies_bouldin_score\n",
        "import matplotlib.pyplot as plt\n",
        "\n",
        "# Perform K-means clustering for different values of clusters\n",
        "cluster_values = [3, 4, 5]\n",
        "results = []\n",
        "\n",
        "for c in cluster_values:\n",
        "    kmeans = KMeans(n_clusters=c, random_state=42)\n",
        "    cluster_labels = kmeans.fit_predict(data)\n",
        "\n",
        "    # Evaluate clustering performance\n",
        "    silhouette = silhouette_score(data, cluster_labels)\n",
        "    calinski_harabasz = calinski_harabasz_score(data, cluster_labels)\n",
        "    davies_bouldin = davies_bouldin_score(data, cluster_labels)\n",
        "\n",
        "    results.append({'Clusters': c,\n",
        "                    'Silhouette Score': silhouette,\n",
        "                    'Calinski-Harabasz Score': calinski_harabasz,\n",
        "                    'Davies-Bouldin Index': davies_bouldin})\n",
        "\n",
        "# Convert results to DataFrame\n",
        "results_df = pd.DataFrame(results)\n",
        "\n",
        "# Display the results\n",
        "print(results_df)\n"
      ],
      "metadata": {
        "id": "Ge8xVxEwVaf6",
        "outputId": "3e43431d-01e9-4248-ece1-0ab60dbd52df",
        "colab": {
          "base_uri": "https://localhost:8080/"
        }
      },
      "execution_count": 12,
      "outputs": [
        {
          "output_type": "stream",
          "name": "stderr",
          "text": [
            "/usr/local/lib/python3.10/dist-packages/sklearn/cluster/_kmeans.py:870: FutureWarning: The default value of `n_init` will change from 10 to 'auto' in 1.4. Set the value of `n_init` explicitly to suppress the warning\n",
            "  warnings.warn(\n",
            "/usr/local/lib/python3.10/dist-packages/sklearn/cluster/_kmeans.py:870: FutureWarning: The default value of `n_init` will change from 10 to 'auto' in 1.4. Set the value of `n_init` explicitly to suppress the warning\n",
            "  warnings.warn(\n",
            "/usr/local/lib/python3.10/dist-packages/sklearn/cluster/_kmeans.py:870: FutureWarning: The default value of `n_init` will change from 10 to 'auto' in 1.4. Set the value of `n_init` explicitly to suppress the warning\n",
            "  warnings.warn(\n"
          ]
        },
        {
          "output_type": "stream",
          "name": "stdout",
          "text": [
            "   Clusters  Silhouette Score  Calinski-Harabasz Score  Davies-Bouldin Index\n",
            "0         3          0.680995               158.228798              0.316658\n",
            "1         4          0.448784               169.876331              0.629278\n",
            "2         5          0.480820               220.840827              0.550155\n"
          ]
        }
      ]
    },
    {
      "cell_type": "code",
      "source": [
        "distortions = []\n",
        "for c in range(1, 11):\n",
        "    kmeans = KMeans(n_clusters=c, random_state=42)\n",
        "    kmeans.fit(data)\n",
        "    distortions.append(kmeans.inertia_)\n",
        "\n",
        "# Plot the elbow graph\n",
        "plt.figure(figsize=(10, 6))\n",
        "plt.plot(range(1, 11), distortions, marker='o', linestyle='--')\n",
        "plt.xlabel('Number of Clusters')\n",
        "plt.ylabel('Distortion')\n",
        "plt.title('Elbow Method')\n",
        "plt.xticks(range(1, 11))\n",
        "plt.grid(True)\n",
        "plt.show()\n"
      ],
      "metadata": {
        "id": "GtoxvCxBWEAn",
        "outputId": "82be8d10-2fd3-4e68-eb03-bf66661920f5",
        "colab": {
          "base_uri": "https://localhost:8080/",
          "height": 931
        }
      },
      "execution_count": 13,
      "outputs": [
        {
          "output_type": "stream",
          "name": "stderr",
          "text": [
            "/usr/local/lib/python3.10/dist-packages/sklearn/cluster/_kmeans.py:870: FutureWarning: The default value of `n_init` will change from 10 to 'auto' in 1.4. Set the value of `n_init` explicitly to suppress the warning\n",
            "  warnings.warn(\n",
            "/usr/local/lib/python3.10/dist-packages/sklearn/cluster/_kmeans.py:870: FutureWarning: The default value of `n_init` will change from 10 to 'auto' in 1.4. Set the value of `n_init` explicitly to suppress the warning\n",
            "  warnings.warn(\n",
            "/usr/local/lib/python3.10/dist-packages/sklearn/cluster/_kmeans.py:870: FutureWarning: The default value of `n_init` will change from 10 to 'auto' in 1.4. Set the value of `n_init` explicitly to suppress the warning\n",
            "  warnings.warn(\n",
            "/usr/local/lib/python3.10/dist-packages/sklearn/cluster/_kmeans.py:870: FutureWarning: The default value of `n_init` will change from 10 to 'auto' in 1.4. Set the value of `n_init` explicitly to suppress the warning\n",
            "  warnings.warn(\n",
            "/usr/local/lib/python3.10/dist-packages/sklearn/cluster/_kmeans.py:870: FutureWarning: The default value of `n_init` will change from 10 to 'auto' in 1.4. Set the value of `n_init` explicitly to suppress the warning\n",
            "  warnings.warn(\n",
            "/usr/local/lib/python3.10/dist-packages/sklearn/cluster/_kmeans.py:870: FutureWarning: The default value of `n_init` will change from 10 to 'auto' in 1.4. Set the value of `n_init` explicitly to suppress the warning\n",
            "  warnings.warn(\n",
            "/usr/local/lib/python3.10/dist-packages/sklearn/cluster/_kmeans.py:870: FutureWarning: The default value of `n_init` will change from 10 to 'auto' in 1.4. Set the value of `n_init` explicitly to suppress the warning\n",
            "  warnings.warn(\n",
            "/usr/local/lib/python3.10/dist-packages/sklearn/cluster/_kmeans.py:870: FutureWarning: The default value of `n_init` will change from 10 to 'auto' in 1.4. Set the value of `n_init` explicitly to suppress the warning\n",
            "  warnings.warn(\n",
            "/usr/local/lib/python3.10/dist-packages/sklearn/cluster/_kmeans.py:870: FutureWarning: The default value of `n_init` will change from 10 to 'auto' in 1.4. Set the value of `n_init` explicitly to suppress the warning\n",
            "  warnings.warn(\n",
            "/usr/local/lib/python3.10/dist-packages/sklearn/cluster/_kmeans.py:870: FutureWarning: The default value of `n_init` will change from 10 to 'auto' in 1.4. Set the value of `n_init` explicitly to suppress the warning\n",
            "  warnings.warn(\n"
          ]
        },
        {
          "output_type": "display_data",
          "data": {
            "text/plain": [
              "<Figure size 1000x600 with 1 Axes>"
            ],
            "image/png": "[encoded data removed]"
          },
          "metadata": {}
        }
      ]
    },
    {
      "cell_type": "code",
      "source": [
        "from sklearn.metrics import silhouette_samples\n",
        "import matplotlib.cm as cm\n",
        "\n",
        "# Plot silhouette plot\n",
        "plt.figure(figsize=(10, 6))\n",
        "plt.title(\"Silhouette Plot for Clustering Results\")\n",
        "plt.xlabel(\"Silhouette Coefficient Values\")\n",
        "plt.ylabel(\"Cluster Label\")\n",
        "\n",
        "# Compute silhouette scores for each sample\n",
        "silhouette_vals = silhouette_samples(data, cluster_labels)\n",
        "\n",
        "y_lower = 10\n",
        "for i in range(len(cluster_values)):\n",
        "    cluster_silhouette_vals = silhouette_vals[cluster_labels == i]\n",
        "    cluster_silhouette_vals.sort()\n",
        "\n",
        "    size_cluster_i = cluster_silhouette_vals.shape[0]\n",
        "    y_upper = y_lower + size_cluster_i\n",
        "\n",
        "    color = cm.nipy_spectral(float(i) / len(cluster_values))\n",
        "    plt.fill_betweenx(np.arange(y_lower, y_upper), 0, cluster_silhouette_vals, facecolor=color, edgecolor=color, alpha=0.7)\n",
        "\n",
        "    plt.text(-0.05, y_lower + 0.5 * size_cluster_i, str(i))\n",
        "    y_lower = y_upper + 10\n",
        "\n",
        "plt.axvline(x=silhouette, color=\"red\", linestyle=\"--\")\n",
        "plt.yticks([])\n",
        "plt.xticks([-0.1, 0, 0.2, 0.4, 0.6, 0.8, 1])\n",
        "plt.show()\n"
      ],
      "metadata": {
        "id": "SInWRuksWjjZ",
        "outputId": "f3a18d0f-d6a7-410d-9bb2-6a6b3f3caa04",
        "colab": {
          "base_uri": "https://localhost:8080/",
          "height": 564
        }
      },
      "execution_count": 14,
      "outputs": [
        {
          "output_type": "display_data",
          "data": {
            "text/plain": [
              "<Figure size 1000x600 with 1 Axes>"
            ],
            "image/png": "[encoded data removed]"
          },
          "metadata": {}
        }
      ]
    },
    {
      "cell_type": "code",
      "source": [
        "#case 2\n",
        "\n",
        "# Create a deep copy of the original data\n",
        "data_normalized = data.copy()\n",
        "\n",
        "# Initialize StandardScaler\n",
        "scaler = StandardScaler()\n",
        "\n",
        "# Modify the copy for normalization\n",
        "data_normalized[['Imaginary Part', 'Real Part', 'Age', 'Smoking']] = scaler.fit_transform(data_normalized[['Imaginary Part', 'Real Part', 'Age', 'Smoking']])\n",
        "\n",
        "# Display the first few rows of the normalized data\n",
        "print(data_normalized.head())\n"
      ],
      "metadata": {
        "id": "knUyilWyWnu9",
        "outputId": "111442b8-6469-41cb-a8e5-d088a540d618",
        "colab": {
          "base_uri": "https://localhost:8080/"
        }
      },
      "execution_count": 15,
      "outputs": [
        {
          "output_type": "stream",
          "name": "stdout",
          "text": [
            "   Imaginary Part  Real Part       Age   Smoking\n",
            "2       -0.200429  -0.456438  1.239927  0.373718\n",
            "3       -0.369452  -0.014925  0.991345  0.373718\n",
            "4       -0.284941  -0.063936  1.041062  1.868588\n",
            "5       -0.453963  -0.014925  1.190211  0.373718\n",
            "6       -0.369452  -0.113153  0.643330  0.373718\n"
          ]
        }
      ]
    },
    {
      "cell_type": "code",
      "source": [
        "#case 2\n",
        "\n",
        "from sklearn.cluster import KMeans\n",
        "from sklearn.metrics import silhouette_score, calinski_harabasz_score, davies_bouldin_score\n",
        "\n",
        "# Define the cluster values to try\n",
        "cluster_values = [3, 4, 5]\n",
        "\n",
        "# Initialize lists to store evaluation scores\n",
        "silhouette_scores = []\n",
        "calinski_harabasz_scores = []\n",
        "davies_bouldin_scores = []\n",
        "\n",
        "# Perform KMeans clustering for different numbers of clusters\n",
        "for c in cluster_values:\n",
        "    # Initialize KMeans with the current number of clusters\n",
        "    kmeans = KMeans(n_clusters=c, random_state=42)\n",
        "\n",
        "    # Fit KMeans to the normalized data\n",
        "    cluster_labels = kmeans.fit_predict(data_normalized)\n",
        "\n",
        "    # Compute silhouette score\n",
        "    silhouette = silhouette_score(data_normalized, cluster_labels)\n",
        "    silhouette_scores.append(silhouette)\n",
        "\n",
        "    # Compute Calinski-Harabasz score\n",
        "    calinski_harabasz = calinski_harabasz_score(data_normalized, cluster_labels)\n",
        "    calinski_harabasz_scores.append(calinski_harabasz)\n",
        "\n",
        "    # Compute Davies-Bouldin index\n",
        "    davies_bouldin = davies_bouldin_score(data_normalized, cluster_labels)\n",
        "    davies_bouldin_scores.append(davies_bouldin)\n",
        "# Display the evaluation scores as a table\n",
        "print(\"\\nClusters\\tSilhouette Score\\tCalinski-Harabasz Score\\t\\tDavies-Bouldin Index\")\n",
        "for i, c in enumerate(cluster_values):\n",
        "    print(f\"{c}\\t\\t{silhouette_scores[i]:.5f}\\t\\t\\t{calinski_harabasz_scores[i]:.5f}\\t\\t\\t{davies_bouldin_scores[i]:.5f}\")\n",
        "\n",
        "print(\"\\n\")\n",
        "\n",
        "\n"
      ],
      "metadata": {
        "id": "Lda55MGjZkgP",
        "outputId": "28959f70-ed23-44ec-cd00-5d42c8fc40ba",
        "colab": {
          "base_uri": "https://localhost:8080/"
        }
      },
      "execution_count": 16,
      "outputs": [
        {
          "output_type": "stream",
          "name": "stderr",
          "text": [
            "/usr/local/lib/python3.10/dist-packages/sklearn/cluster/_kmeans.py:870: FutureWarning: The default value of `n_init` will change from 10 to 'auto' in 1.4. Set the value of `n_init` explicitly to suppress the warning\n",
            "  warnings.warn(\n",
            "/usr/local/lib/python3.10/dist-packages/sklearn/cluster/_kmeans.py:870: FutureWarning: The default value of `n_init` will change from 10 to 'auto' in 1.4. Set the value of `n_init` explicitly to suppress the warning\n",
            "  warnings.warn(\n"
          ]
        },
        {
          "output_type": "stream",
          "name": "stdout",
          "text": [
            "\n",
            "Clusters\tSilhouette Score\tCalinski-Harabasz Score\t\tDavies-Bouldin Index\n",
            "3\t\t0.49365\t\t\t65.23070\t\t\t0.80601\n",
            "4\t\t0.51093\t\t\t85.54102\t\t\t0.58074\n",
            "5\t\t0.51328\t\t\t95.96895\t\t\t0.57986\n",
            "\n",
            "\n"
          ]
        },
        {
          "output_type": "stream",
          "name": "stderr",
          "text": [
            "/usr/local/lib/python3.10/dist-packages/sklearn/cluster/_kmeans.py:870: FutureWarning: The default value of `n_init` will change from 10 to 'auto' in 1.4. Set the value of `n_init` explicitly to suppress the warning\n",
            "  warnings.warn(\n"
          ]
        }
      ]
    },
    {
      "cell_type": "code",
      "source": [
        "# Display the evaluation scores as a table (transposed)\n",
        "print(\"\\t\".join([\"Clusters\"] + [str(c) for c in cluster_values]))\n",
        "print(\"Silhouette Score\\t\" + \"\\t\\t\".join([f\"{score:.5f}\" for score in silhouette_scores]))\n",
        "print(\"Calinski-Harabasz Score\\t\" + \"\\t\".join([f\"{score:.5f}\" for score in calinski_harabasz_scores]))\n",
        "print(\"Davies-Bouldin Index\\t\" + \"\\t\".join([f\"{score:.5f}\" for score in davies_bouldin_scores]))\n"
      ],
      "metadata": {
        "id": "itU947j-W8oT",
        "outputId": "c6ff935b-0a8b-4630-90e1-a294e2447241",
        "colab": {
          "base_uri": "https://localhost:8080/"
        }
      },
      "execution_count": 17,
      "outputs": [
        {
          "output_type": "stream",
          "name": "stdout",
          "text": [
            "Clusters\t3\t4\t5\n",
            "Silhouette Score\t0.49365\t\t0.51093\t\t0.51328\n",
            "Calinski-Harabasz Score\t65.23070\t85.54102\t95.96895\n",
            "Davies-Bouldin Index\t0.80601\t0.58074\t0.57986\n"
          ]
        }
      ]
    },
    {
      "cell_type": "code",
      "source": [
        "from sklearn.cluster import KMeans\n",
        "import numpy as np\n",
        "import matplotlib.pyplot as plt\n",
        "\n",
        "# Define the range of cluster values\n",
        "cluster_values = range(2, 12)\n",
        "\n",
        "# Initialize an empty list to store distortion scores\n",
        "distortion_scores_normalized = []\n",
        "\n",
        "# Iterate over each value of clusters\n",
        "for c in cluster_values:\n",
        "    # Initialize KMeans with the current number of clusters\n",
        "    kmeans_normalized = KMeans(n_clusters=c, random_state=42)\n",
        "    # Fit the model and compute distortion score\n",
        "    kmeans_normalized.fit(data_normalized)\n",
        "    distortion_scores_normalized.append(kmeans_normalized.inertia_)\n",
        "\n",
        "# Plot the elbow curve\n",
        "plt.figure(figsize=(10, 6))\n",
        "plt.plot(cluster_values, distortion_scores_normalized, marker='o', linestyle='-')\n",
        "plt.xticks(np.arange(2, 12, 1))  # Set x-ticks without a scale of 2\n",
        "plt.title('Elbow Method for Optimal k (Normalized Data)')\n",
        "plt.xlabel('Number of Clusters')\n",
        "plt.ylabel('Distortion Score')\n",
        "plt.grid(True)\n",
        "plt.show()\n"
      ],
      "metadata": {
        "id": "YLghkxHFa32C",
        "outputId": "06ce1014-5bae-4b4d-df18-e9cf37d219fb",
        "colab": {
          "base_uri": "https://localhost:8080/",
          "height": 931
        }
      },
      "execution_count": 18,
      "outputs": [
        {
          "output_type": "stream",
          "name": "stderr",
          "text": [
            "/usr/local/lib/python3.10/dist-packages/sklearn/cluster/_kmeans.py:870: FutureWarning: The default value of `n_init` will change from 10 to 'auto' in 1.4. Set the value of `n_init` explicitly to suppress the warning\n",
            "  warnings.warn(\n",
            "/usr/local/lib/python3.10/dist-packages/sklearn/cluster/_kmeans.py:870: FutureWarning: The default value of `n_init` will change from 10 to 'auto' in 1.4. Set the value of `n_init` explicitly to suppress the warning\n",
            "  warnings.warn(\n",
            "/usr/local/lib/python3.10/dist-packages/sklearn/cluster/_kmeans.py:870: FutureWarning: The default value of `n_init` will change from 10 to 'auto' in 1.4. Set the value of `n_init` explicitly to suppress the warning\n",
            "  warnings.warn(\n",
            "/usr/local/lib/python3.10/dist-packages/sklearn/cluster/_kmeans.py:870: FutureWarning: The default value of `n_init` will change from 10 to 'auto' in 1.4. Set the value of `n_init` explicitly to suppress the warning\n",
            "  warnings.warn(\n",
            "/usr/local/lib/python3.10/dist-packages/sklearn/cluster/_kmeans.py:870: FutureWarning: The default value of `n_init` will change from 10 to 'auto' in 1.4. Set the value of `n_init` explicitly to suppress the warning\n",
            "  warnings.warn(\n",
            "/usr/local/lib/python3.10/dist-packages/sklearn/cluster/_kmeans.py:870: FutureWarning: The default value of `n_init` will change from 10 to 'auto' in 1.4. Set the value of `n_init` explicitly to suppress the warning\n",
            "  warnings.warn(\n",
            "/usr/local/lib/python3.10/dist-packages/sklearn/cluster/_kmeans.py:870: FutureWarning: The default value of `n_init` will change from 10 to 'auto' in 1.4. Set the value of `n_init` explicitly to suppress the warning\n",
            "  warnings.warn(\n",
            "/usr/local/lib/python3.10/dist-packages/sklearn/cluster/_kmeans.py:870: FutureWarning: The default value of `n_init` will change from 10 to 'auto' in 1.4. Set the value of `n_init` explicitly to suppress the warning\n",
            "  warnings.warn(\n",
            "/usr/local/lib/python3.10/dist-packages/sklearn/cluster/_kmeans.py:870: FutureWarning: The default value of `n_init` will change from 10 to 'auto' in 1.4. Set the value of `n_init` explicitly to suppress the warning\n",
            "  warnings.warn(\n",
            "/usr/local/lib/python3.10/dist-packages/sklearn/cluster/_kmeans.py:870: FutureWarning: The default value of `n_init` will change from 10 to 'auto' in 1.4. Set the value of `n_init` explicitly to suppress the warning\n",
            "  warnings.warn(\n"
          ]
        },
        {
          "output_type": "display_data",
          "data": {
            "text/plain": [
              "<Figure size 1000x600 with 1 Axes>"
            ],
            "image/png": "[encoded data removed]"
          },
          "metadata": {}
        }
      ]
    },
    {
      "cell_type": "code",
      "source": [
        "from sklearn.metrics import silhouette_samples\n",
        "\n",
        "# Initialize KMeans with the desired number of clusters\n",
        "kmeans_normalized = KMeans(n_clusters=3, random_state=42)\n",
        "cluster_labels_normalized = kmeans_normalized.fit_predict(data_normalized)\n",
        "\n",
        "# Compute silhouette scores\n",
        "silhouette_vals_normalized = silhouette_samples(data_normalized, cluster_labels_normalized)\n",
        "\n",
        "# Plot silhouette plot\n",
        "plt.figure(figsize=(10, 6))\n",
        "\n",
        "y_lower_normalized = 10\n",
        "for i in range(3):\n",
        "    # Aggregate silhouette scores for samples belonging to cluster i\n",
        "    cluster_silhouette_vals_normalized = silhouette_vals_normalized[cluster_labels_normalized == i]\n",
        "    cluster_silhouette_vals_normalized.sort()\n",
        "    y_upper_normalized = y_lower_normalized + cluster_silhouette_vals_normalized.shape[0]\n",
        "\n",
        "    # Fill color for clusters\n",
        "    color = plt.cm.inferno(i / 3)\n",
        "    plt.fill_betweenx(np.arange(y_lower_normalized, y_upper_normalized), 0, cluster_silhouette_vals_normalized, facecolor=color, edgecolor=color, alpha=0.7)\n",
        "\n",
        "    # Label silhouette plots with cluster numbers\n",
        "    plt.text(-0.05, y_lower_normalized + 0.5 * cluster_silhouette_vals_normalized.shape[0], str(i))\n",
        "\n",
        "    # Compute new y_lower for the next plot\n",
        "    y_lower_normalized = y_upper_normalized + 10\n",
        "\n",
        "plt.title('Silhouette Plot for Normalized Data')\n",
        "plt.xlabel('Silhouette Coefficient Values')\n",
        "plt.ylabel('Cluster Label')\n",
        "plt.show()\n"
      ],
      "metadata": {
        "id": "ZU6W7eLHct9p",
        "outputId": "427a4105-e58a-4468-9c22-8dc670e24d1f",
        "colab": {
          "base_uri": "https://localhost:8080/",
          "height": 619
        }
      },
      "execution_count": 19,
      "outputs": [
        {
          "output_type": "stream",
          "name": "stderr",
          "text": [
            "/usr/local/lib/python3.10/dist-packages/sklearn/cluster/_kmeans.py:870: FutureWarning: The default value of `n_init` will change from 10 to 'auto' in 1.4. Set the value of `n_init` explicitly to suppress the warning\n",
            "  warnings.warn(\n"
          ]
        },
        {
          "output_type": "display_data",
          "data": {
            "text/plain": [
              "<Figure size 1000x600 with 1 Axes>"
            ],
            "image/png": "[encoded data removed]"
          },
          "metadata": {}
        }
      ]
    },
    {
      "cell_type": "code",
      "source": [
        "#case 3\n",
        "from sklearn.manifold import TSNE\n",
        "\n",
        "# Now you can use TSNE for dimensionality reduction\n",
        "tsne = TSNE(n_components=2, random_state=42)\n",
        "data_transformed = tsne.fit_transform(data)\n",
        "\n",
        "cluster_sizes = [3, 4, 5]  # Define the cluster sizes to test\n",
        "\n",
        "# Perform KMeans clustering and compute evaluation scores for each cluster size\n",
        "for n_clusters in cluster_sizes:\n",
        "    # KMeans clustering with data transformation\n",
        "    kmeans = KMeans(n_clusters=n_clusters, random_state=42)\n",
        "    labels = kmeans.fit_predict(data_transformed)\n",
        "\n",
        "    # Compute evaluation scores\n",
        "    silhouette_score_case3 = silhouette_score(data_transformed, labels)\n",
        "    calinski_harabasz_score_case3 = calinski_harabasz_score(data_transformed, labels)\n",
        "    davies_bouldin_score_case3 = davies_bouldin_score(data_transformed, labels)\n",
        "\n",
        "    # Print evaluation scores\n",
        "    print(f\"Cluster Size: {n_clusters}\")\n",
        "    print(\"Silhouette Score:\", silhouette_score_case3)\n",
        "    print(\"Calinski-Harabasz Score:\", calinski_harabasz_score_case3)\n",
        "    print(\"Davies-Bouldin Score:\", davies_bouldin_score_case3)\n",
        "    print()\n"
      ],
      "metadata": {
        "id": "exgPxJ6XdVFs",
        "outputId": "78fd0fdb-82d9-46f1-889f-5808fef61816",
        "colab": {
          "base_uri": "https://localhost:8080/"
        }
      },
      "execution_count": 22,
      "outputs": [
        {
          "output_type": "stream",
          "name": "stdout",
          "text": [
            "Cluster Size: 3\n",
            "Silhouette Score: 0.53796804\n",
            "Calinski-Harabasz Score: 151.92514084424025\n",
            "Davies-Bouldin Score: 0.7763551488835008\n",
            "\n",
            "Cluster Size: 4\n",
            "Silhouette Score: 0.5527197\n",
            "Calinski-Harabasz Score: 204.15734750925614\n",
            "Davies-Bouldin Score: 0.6679575251030541\n",
            "\n",
            "Cluster Size: 5\n",
            "Silhouette Score: 0.6079404\n",
            "Calinski-Harabasz Score: 278.8648076815171\n",
            "Davies-Bouldin Score: 0.5236622905315731\n",
            "\n"
          ]
        },
        {
          "output_type": "stream",
          "name": "stderr",
          "text": [
            "/usr/local/lib/python3.10/dist-packages/sklearn/cluster/_kmeans.py:870: FutureWarning: The default value of `n_init` will change from 10 to 'auto' in 1.4. Set the value of `n_init` explicitly to suppress the warning\n",
            "  warnings.warn(\n",
            "/usr/local/lib/python3.10/dist-packages/sklearn/cluster/_kmeans.py:870: FutureWarning: The default value of `n_init` will change from 10 to 'auto' in 1.4. Set the value of `n_init` explicitly to suppress the warning\n",
            "  warnings.warn(\n",
            "/usr/local/lib/python3.10/dist-packages/sklearn/cluster/_kmeans.py:870: FutureWarning: The default value of `n_init` will change from 10 to 'auto' in 1.4. Set the value of `n_init` explicitly to suppress the warning\n",
            "  warnings.warn(\n"
          ]
        }
      ]
    },
    {
      "cell_type": "code",
      "source": [
        "from sklearn.cluster import KMeans\n",
        "from sklearn.decomposition import PCA\n",
        "\n",
        "# Define cluster sizes\n",
        "cluster_sizes = [3, 4, 5]\n",
        "\n",
        "# Perform KMeans clustering and compute evaluation scores for each cluster size\n",
        "for n_clusters in cluster_sizes:\n",
        "    # Apply PCA for dimensionality reduction\n",
        "    pca = PCA(n_components=2, random_state=42)\n",
        "    data_pca = pca.fit_transform(data)\n",
        "\n",
        "    # KMeans clustering with PCA\n",
        "    kmeans = KMeans(n_clusters=n_clusters, random_state=42)\n",
        "    labels = kmeans.fit_predict(data_pca)\n",
        "\n",
        "    # Compute evaluation scores\n",
        "    silhouette_score_case4 = silhouette_score(data_pca, labels)\n",
        "    calinski_harabasz_score_case4 = calinski_harabasz_score(data_pca, labels)\n",
        "    davies_bouldin_score_case4 = davies_bouldin_score(data_pca, labels)\n",
        "\n",
        "    # Print evaluation scores\n",
        "    print(f\"Cluster Size: {n_clusters}\")\n",
        "    print(\"Silhouette Score:\", silhouette_score_case4)\n",
        "    print(\"Calinski-Harabasz Score:\", calinski_harabasz_score_case4)\n",
        "    print(\"Davies-Bouldin Score:\", davies_bouldin_score_case4)\n",
        "    print()\n"
      ],
      "metadata": {
        "id": "mNcXkaOGhsMi",
        "outputId": "c5356923-039e-48df-dfb7-40b942d70c11",
        "colab": {
          "base_uri": "https://localhost:8080/"
        }
      },
      "execution_count": 23,
      "outputs": [
        {
          "output_type": "stream",
          "name": "stderr",
          "text": [
            "/usr/local/lib/python3.10/dist-packages/sklearn/cluster/_kmeans.py:870: FutureWarning: The default value of `n_init` will change from 10 to 'auto' in 1.4. Set the value of `n_init` explicitly to suppress the warning\n",
            "  warnings.warn(\n",
            "/usr/local/lib/python3.10/dist-packages/sklearn/cluster/_kmeans.py:870: FutureWarning: The default value of `n_init` will change from 10 to 'auto' in 1.4. Set the value of `n_init` explicitly to suppress the warning\n",
            "  warnings.warn(\n",
            "/usr/local/lib/python3.10/dist-packages/sklearn/cluster/_kmeans.py:870: FutureWarning: The default value of `n_init` will change from 10 to 'auto' in 1.4. Set the value of `n_init` explicitly to suppress the warning\n",
            "  warnings.warn(\n"
          ]
        },
        {
          "output_type": "stream",
          "name": "stdout",
          "text": [
            "Cluster Size: 3\n",
            "Silhouette Score: 0.803880554154936\n",
            "Calinski-Harabasz Score: 286.0256700742083\n",
            "Davies-Bouldin Score: 0.16348174949901995\n",
            "\n",
            "Cluster Size: 4\n",
            "Silhouette Score: 0.7001117242592083\n",
            "Calinski-Harabasz Score: 424.6721888561158\n",
            "Davies-Bouldin Score: 0.43431374693538055\n",
            "\n",
            "Cluster Size: 5\n",
            "Silhouette Score: 0.6919304135275811\n",
            "Calinski-Harabasz Score: 750.363207557014\n",
            "Davies-Bouldin Score: 0.3172915071443015\n",
            "\n"
          ]
        }
      ]
    },
    {
      "cell_type": "code",
      "source": [
        "from sklearn.cluster import KMeans\n",
        "from sklearn.preprocessing import StandardScaler\n",
        "from sklearn.manifold import TSNE\n",
        "\n",
        "# Define cluster sizes\n",
        "cluster_sizes = [3, 4, 5]\n",
        "\n",
        "# Perform KMeans clustering and compute evaluation scores for each cluster size\n",
        "for n_clusters in cluster_sizes:\n",
        "    # Normalization\n",
        "    scaler = StandardScaler()\n",
        "    data_normalized = scaler.fit_transform(data)\n",
        "\n",
        "    # Transformation (t-SNE)\n",
        "    tsne = TSNE(n_components=2, random_state=42)\n",
        "    data_transformed = tsne.fit_transform(data_normalized)\n",
        "\n",
        "    # KMeans clustering with normalization and transformation\n",
        "    kmeans = KMeans(n_clusters=n_clusters, random_state=42)\n",
        "    labels = kmeans.fit_predict(data_transformed)\n",
        "\n",
        "    # Compute evaluation scores\n",
        "    silhouette_score_case5 = silhouette_score(data_transformed, labels)\n",
        "    calinski_harabasz_score_case5 = calinski_harabasz_score(data_transformed, labels)\n",
        "    davies_bouldin_score_case5 = davies_bouldin_score(data_transformed, labels)\n",
        "\n",
        "    # Print evaluation scores\n",
        "    print(f\"Cluster Size: {n_clusters}\")\n",
        "    print(\"Silhouette Score:\", silhouette_score_case5)\n",
        "    print(\"Calinski-Harabasz Score:\", calinski_harabasz_score_case5)\n",
        "    print(\"Davies-Bouldin Score:\", davies_bouldin_score_case5)\n",
        "    print()\n"
      ],
      "metadata": {
        "id": "6Bnpml72ibY6",
        "outputId": "608c000c-2fc3-436b-ff62-303f51a755a0",
        "colab": {
          "base_uri": "https://localhost:8080/"
        }
      },
      "execution_count": 24,
      "outputs": [
        {
          "output_type": "stream",
          "name": "stderr",
          "text": [
            "/usr/local/lib/python3.10/dist-packages/sklearn/cluster/_kmeans.py:870: FutureWarning: The default value of `n_init` will change from 10 to 'auto' in 1.4. Set the value of `n_init` explicitly to suppress the warning\n",
            "  warnings.warn(\n"
          ]
        },
        {
          "output_type": "stream",
          "name": "stdout",
          "text": [
            "Cluster Size: 3\n",
            "Silhouette Score: 0.6312269\n",
            "Calinski-Harabasz Score: 262.5028063063276\n",
            "Davies-Bouldin Score: 0.42876812560352473\n",
            "\n"
          ]
        },
        {
          "output_type": "stream",
          "name": "stderr",
          "text": [
            "/usr/local/lib/python3.10/dist-packages/sklearn/cluster/_kmeans.py:870: FutureWarning: The default value of `n_init` will change from 10 to 'auto' in 1.4. Set the value of `n_init` explicitly to suppress the warning\n",
            "  warnings.warn(\n"
          ]
        },
        {
          "output_type": "stream",
          "name": "stdout",
          "text": [
            "Cluster Size: 4\n",
            "Silhouette Score: 0.6384989\n",
            "Calinski-Harabasz Score: 372.95694969470793\n",
            "Davies-Bouldin Score: 0.540548469685177\n",
            "\n",
            "Cluster Size: 5\n",
            "Silhouette Score: 0.67511994\n",
            "Calinski-Harabasz Score: 430.81582369604416\n",
            "Davies-Bouldin Score: 0.4020903436516455\n",
            "\n"
          ]
        },
        {
          "output_type": "stream",
          "name": "stderr",
          "text": [
            "/usr/local/lib/python3.10/dist-packages/sklearn/cluster/_kmeans.py:870: FutureWarning: The default value of `n_init` will change from 10 to 'auto' in 1.4. Set the value of `n_init` explicitly to suppress the warning\n",
            "  warnings.warn(\n"
          ]
        }
      ]
    },
    {
      "cell_type": "code",
      "source": [
        "from sklearn.cluster import KMeans\n",
        "from sklearn.preprocessing import StandardScaler\n",
        "from sklearn.decomposition import PCA\n",
        "from sklearn.manifold import TSNE\n",
        "\n",
        "# Define cluster sizes\n",
        "cluster_sizes = [3, 4, 5]\n",
        "\n",
        "# Perform KMeans clustering and compute evaluation scores for each cluster size\n",
        "for n_clusters in cluster_sizes:\n",
        "    # Normalization\n",
        "    scaler = StandardScaler()\n",
        "    data_normalized = scaler.fit_transform(data)\n",
        "\n",
        "    # Transformation (PCA)\n",
        "    pca = PCA(n_components=2, random_state=42)\n",
        "    data_pca = pca.fit_transform(data_normalized)\n",
        "\n",
        "    # Transformation (t-SNE)\n",
        "    tsne = TSNE(n_components=2, random_state=42)\n",
        "    data_tsne = tsne.fit_transform(data_normalized)\n",
        "\n",
        "    # Combine PCA and t-SNE transformed data\n",
        "    data_combined = np.concatenate([data_pca, data_tsne], axis=1)\n",
        "\n",
        "    # KMeans clustering with combined transformed data\n",
        "    kmeans_combined = KMeans(n_clusters=n_clusters, random_state=42)\n",
        "    labels_combined = kmeans_combined.fit_predict(data_combined)\n",
        "\n",
        "    # Compute evaluation scores\n",
        "    silhouette_score_case_combined = silhouette_score(data_combined, labels_combined)\n",
        "    calinski_harabasz_score_case_combined = calinski_harabasz_score(data_combined, labels_combined)\n",
        "    davies_bouldin_score_case_combined = davies_bouldin_score(data_combined, labels_combined)\n",
        "\n",
        "    # Print evaluation scores\n",
        "    print(f\"Cluster Size: {n_clusters}\")\n",
        "    print(\"Evaluation Scores with Combined Transformed Data:\")\n",
        "    print(\"Silhouette Score:\", silhouette_score_case_combined)\n",
        "    print(\"Calinski-Harabasz Score:\", calinski_harabasz_score_case_combined)\n",
        "    print(\"Davies-Bouldin Score:\", davies_bouldin_score_case_combined)\n",
        "    print()\n"
      ],
      "metadata": {
        "id": "Yv7PnzmojAqj",
        "outputId": "fbe6025a-d489-4bb4-84b2-9d0df3ccafdf",
        "colab": {
          "base_uri": "https://localhost:8080/"
        }
      },
      "execution_count": 25,
      "outputs": [
        {
          "output_type": "stream",
          "name": "stderr",
          "text": [
            "/usr/local/lib/python3.10/dist-packages/sklearn/cluster/_kmeans.py:870: FutureWarning: The default value of `n_init` will change from 10 to 'auto' in 1.4. Set the value of `n_init` explicitly to suppress the warning\n",
            "  warnings.warn(\n"
          ]
        },
        {
          "output_type": "stream",
          "name": "stdout",
          "text": [
            "Cluster Size: 3\n",
            "Evaluation Scores with Combined Transformed Data:\n",
            "Silhouette Score: 0.651838159622138\n",
            "Calinski-Harabasz Score: 242.60667138655472\n",
            "Davies-Bouldin Score: 0.5174141419231583\n",
            "\n"
          ]
        },
        {
          "output_type": "stream",
          "name": "stderr",
          "text": [
            "/usr/local/lib/python3.10/dist-packages/sklearn/cluster/_kmeans.py:870: FutureWarning: The default value of `n_init` will change from 10 to 'auto' in 1.4. Set the value of `n_init` explicitly to suppress the warning\n",
            "  warnings.warn(\n"
          ]
        },
        {
          "output_type": "stream",
          "name": "stdout",
          "text": [
            "Cluster Size: 4\n",
            "Evaluation Scores with Combined Transformed Data:\n",
            "Silhouette Score: 0.6148634270179295\n",
            "Calinski-Harabasz Score: 296.79391974790684\n",
            "Davies-Bouldin Score: 0.6128917733278314\n",
            "\n",
            "Cluster Size: 5\n",
            "Evaluation Scores with Combined Transformed Data:\n",
            "Silhouette Score: 0.6505715928660879\n",
            "Calinski-Harabasz Score: 314.1963251313164\n",
            "Davies-Bouldin Score: 0.4663296799365164\n",
            "\n"
          ]
        },
        {
          "output_type": "stream",
          "name": "stderr",
          "text": [
            "/usr/local/lib/python3.10/dist-packages/sklearn/cluster/_kmeans.py:870: FutureWarning: The default value of `n_init` will change from 10 to 'auto' in 1.4. Set the value of `n_init` explicitly to suppress the warning\n",
            "  warnings.warn(\n"
          ]
        }
      ]
    }
  ]
}