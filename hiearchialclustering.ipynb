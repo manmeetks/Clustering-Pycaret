{
  "nbformat": 4,
  "nbformat_minor": 0,
  "metadata": {
    "colab": {
      "provenance": []
    },
    "kernelspec": {
      "name": "python3",
      "display_name": "Python 3"
    },
    "language_info": {
      "name": "python"
    }
  },
  "cells": [
    {
      "cell_type": "code",
      "execution_count": 27,
      "metadata": {
        "id": "vGIau5wFLgPz"
      },
      "outputs": [],
      "source": [
        "# Import necessary libraries\n",
        "import pandas as pd\n",
        "import numpy as np\n",
        "from sklearn.preprocessing import StandardScaler\n",
        "import matplotlib.pyplot as plt\n",
        "import seaborn as sns\n",
        "from sklearn.cluster import KMeans\n",
        "from sklearn.metrics import silhouette_score, calinski_harabasz_score, davies_bouldin_score\n"
      ]
    },
    {
      "cell_type": "code",
      "source": [
        "\n",
        "from google.colab import files\n",
        "\n",
        "# Upload dataset file to Google Colab\n",
        "uploaded = files.upload()\n"
      ],
      "metadata": {
        "colab": {
          "base_uri": "https://localhost:8080/",
          "height": 73
        },
        "id": "OAmjyb4j8w1z",
        "outputId": "3378c772-8ef6-4377-c525-0159018da900"
      },
      "execution_count": 28,
      "outputs": [
        {
          "output_type": "display_data",
          "data": {
            "text/plain": [
              "<IPython.core.display.HTML object>"
            ],
            "text/html": [
              "\n",
              "     <input type=\"file\" id=\"files-32c109ed-1723-4d1a-91f5-dbf537be3e51\" name=\"files[]\" multiple disabled\n",
              "        style=\"border:none\" />\n",
              "     <output id=\"result-32c109ed-1723-4d1a-91f5-dbf537be3e51\">\n",
              "      Upload widget is only available when the cell has been executed in the\n",
              "      current browser session. Please rerun this cell to enable.\n",
              "      </output>\n",
              "      <script>// Copyright 2017 Google LLC\n",
              "//\n",
              "// Licensed under the Apache License, Version 2.0 (the \"License\");\n",
              "// you may not use this file except in compliance with the License.\n",
              "// You may obtain a copy of the License at\n",
              "//\n",
              "//      http://www.apache.org/licenses/LICENSE-2.0\n",
              "//\n",
              "// Unless required by applicable law or agreed to in writing, software\n",
              "// distributed under the License is distributed on an \"AS IS\" BASIS,\n",
              "// WITHOUT WARRANTIES OR CONDITIONS OF ANY KIND, either express or implied.\n",
              "// See the License for the specific language governing permissions and\n",
              "// limitations under the License.\n",
              "\n",
              "/**\n",
              " * @fileoverview Helpers for google.colab Python module.\n",
              " */\n",
              "(function(scope) {\n",
              "function span(text, styleAttributes = {}) {\n",
              "  const element = document.createElement('span');\n",
              "  element.textContent = text;\n",
              "  for (const key of Object.keys(styleAttributes)) {\n",
              "    element.style[key] = styleAttributes[key];\n",
              "  }\n",
              "  return element;\n",
              "}\n",
              "\n",
              "// Max number of bytes which will be uploaded at a time.\n",
              "const MAX_PAYLOAD_SIZE = 100 * 1024;\n",
              "\n",
              "function _uploadFiles(inputId, outputId) {\n",
              "  const steps = uploadFilesStep(inputId, outputId);\n",
              "  const outputElement = document.getElementById(outputId);\n",
              "  // Cache steps on the outputElement to make it available for the next call\n",
              "  // to uploadFilesContinue from Python.\n",
              "  outputElement.steps = steps;\n",
              "\n",
              "  return _uploadFilesContinue(outputId);\n",
              "}\n",
              "\n",
              "// This is roughly an async generator (not supported in the browser yet),\n",
              "// where there are multiple asynchronous steps and the Python side is going\n",
              "// to poll for completion of each step.\n",
              "// This uses a Promise to block the python side on completion of each step,\n",
              "// then passes the result of the previous step as the input to the next step.\n",
              "function _uploadFilesContinue(outputId) {\n",
              "  const outputElement = document.getElementById(outputId);\n",
              "  const steps = outputElement.steps;\n",
              "\n",
              "  const next = steps.next(outputElement.lastPromiseValue);\n",
              "  return Promise.resolve(next.value.promise).then((value) => {\n",
              "    // Cache the last promise value to make it available to the next\n",
              "    // step of the generator.\n",
              "    outputElement.lastPromiseValue = value;\n",
              "    return next.value.response;\n",
              "  });\n",
              "}\n",
              "\n",
              "/**\n",
              " * Generator function which is called between each async step of the upload\n",
              " * process.\n",
              " * @param {string} inputId Element ID of the input file picker element.\n",
              " * @param {string} outputId Element ID of the output display.\n",
              " * @return {!Iterable<!Object>} Iterable of next steps.\n",
              " */\n",
              "function* uploadFilesStep(inputId, outputId) {\n",
              "  const inputElement = document.getElementById(inputId);\n",
              "  inputElement.disabled = false;\n",
              "\n",
              "  const outputElement = document.getElementById(outputId);\n",
              "  outputElement.innerHTML = '';\n",
              "\n",
              "  const pickedPromise = new Promise((resolve) => {\n",
              "    inputElement.addEventListener('change', (e) => {\n",
              "      resolve(e.target.files);\n",
              "    });\n",
              "  });\n",
              "\n",
              "  const cancel = document.createElement('button');\n",
              "  inputElement.parentElement.appendChild(cancel);\n",
              "  cancel.textContent = 'Cancel upload';\n",
              "  const cancelPromise = new Promise((resolve) => {\n",
              "    cancel.onclick = () => {\n",
              "      resolve(null);\n",
              "    };\n",
              "  });\n",
              "\n",
              "  // Wait for the user to pick the files.\n",
              "  const files = yield {\n",
              "    promise: Promise.race([pickedPromise, cancelPromise]),\n",
              "    response: {\n",
              "      action: 'starting',\n",
              "    }\n",
              "  };\n",
              "\n",
              "  cancel.remove();\n",
              "\n",
              "  // Disable the input element since further picks are not allowed.\n",
              "  inputElement.disabled = true;\n",
              "\n",
              "  if (!files) {\n",
              "    return {\n",
              "      response: {\n",
              "        action: 'complete',\n",
              "      }\n",
              "    };\n",
              "  }\n",
              "\n",
              "  for (const file of files) {\n",
              "    const li = document.createElement('li');\n",
              "    li.append(span(file.name, {fontWeight: 'bold'}));\n",
              "    li.append(span(\n",
              "        `(${file.type || 'n/a'}) - ${file.size} bytes, ` +\n",
              "        `last modified: ${\n",
              "            file.lastModifiedDate ? file.lastModifiedDate.toLocaleDateString() :\n",
              "                                    'n/a'} - `));\n",
              "    const percent = span('0% done');\n",
              "    li.appendChild(percent);\n",
              "\n",
              "    outputElement.appendChild(li);\n",
              "\n",
              "    const fileDataPromise = new Promise((resolve) => {\n",
              "      const reader = new FileReader();\n",
              "      reader.onload = (e) => {\n",
              "        resolve(e.target.result);\n",
              "      };\n",
              "      reader.readAsArrayBuffer(file);\n",
              "    });\n",
              "    // Wait for the data to be ready.\n",
              "    let fileData = yield {\n",
              "      promise: fileDataPromise,\n",
              "      response: {\n",
              "        action: 'continue',\n",
              "      }\n",
              "    };\n",
              "\n",
              "    // Use a chunked sending to avoid message size limits. See b/62115660.\n",
              "    let position = 0;\n",
              "    do {\n",
              "      const length = Math.min(fileData.byteLength - position, MAX_PAYLOAD_SIZE);\n",
              "      const chunk = new Uint8Array(fileData, position, length);\n",
              "      position += length;\n",
              "\n",
              "      const base64 = btoa(String.fromCharCode.apply(null, chunk));\n",
              "      yield {\n",
              "        response: {\n",
              "          action: 'append',\n",
              "          file: file.name,\n",
              "          data: base64,\n",
              "        },\n",
              "      };\n",
              "\n",
              "      let percentDone = fileData.byteLength === 0 ?\n",
              "          100 :\n",
              "          Math.round((position / fileData.byteLength) * 100);\n",
              "      percent.textContent = `${percentDone}% done`;\n",
              "\n",
              "    } while (position < fileData.byteLength);\n",
              "  }\n",
              "\n",
              "  // All done.\n",
              "  yield {\n",
              "    response: {\n",
              "      action: 'complete',\n",
              "    }\n",
              "  };\n",
              "}\n",
              "\n",
              "scope.google = scope.google || {};\n",
              "scope.google.colab = scope.google.colab || {};\n",
              "scope.google.colab._files = {\n",
              "  _uploadFiles,\n",
              "  _uploadFilesContinue,\n",
              "};\n",
              "})(self);\n",
              "</script> "
            ]
          },
          "metadata": {}
        },
        {
          "output_type": "stream",
          "name": "stdout",
          "text": [
            "Saving exasens.zip to exasens (2).zip\n"
          ]
        }
      ]
    },
    {
      "cell_type": "code",
      "source": [
        "# Read the dataset into a Pandas DataFrame\n",
        "exasens_df = pd.read_csv('exasens.zip')\n"
      ],
      "metadata": {
        "id": "5r0YKFz_-HIa"
      },
      "execution_count": 29,
      "outputs": []
    },
    {
      "cell_type": "code",
      "source": [
        "# Drop columns with no useful information\n",
        "exasens_df = exasens_df.drop(columns=['Unnamed: 9', 'Unnamed: 10'])\n",
        "\n",
        "# Display unique values in columns \"Unnamed: 11\" and \"Unnamed: 12\"\n",
        "print(\"Unique values in Unnamed: 11:\", exasens_df[\"Unnamed: 11\"].unique())\n",
        "print(\"Unique values in Unnamed: 12:\", exasens_df[\"Unnamed: 12\"].unique())"
      ],
      "metadata": {
        "colab": {
          "base_uri": "https://localhost:8080/"
        },
        "id": "9jlJK5liALnR",
        "outputId": "bd3c0b5e-848d-409a-e485-436455ced3d4"
      },
      "execution_count": 30,
      "outputs": [
        {
          "output_type": "stream",
          "name": "stdout",
          "text": [
            "Unique values in Unnamed: 11: [nan 'Gender ' 'Male=1' 'Female=0']\n",
            "Unique values in Unnamed: 12: [nan 'Somking' 'Non-smoker=1' 'Ex-smoker=2' 'Active-smoker=3']\n"
          ]
        }
      ]
    },
    {
      "cell_type": "code",
      "source": [
        "# Map values in column \"Unnamed: 11\" to meaningful labels\n",
        "exasens_df[\"Gender\"] = exasens_df[\"Unnamed: 11\"].map({\"Male=1\": \"Male\", \"Female=0\": \"Female\"})\n",
        "\n",
        "# Map values in column \"Unnamed: 12\" to meaningful labels\n",
        "exasens_df[\"Smoking Status\"] = exasens_df[\"Unnamed: 12\"].map({\"Non-smoker=1\": \"Non-smoker\",\n",
        "                                                             \"Ex-smoker=2\": \"Ex-smoker\",\n",
        "                                                             \"Active-smoker=3\": \"Active-smoker\"})\n",
        "\n",
        "# Drop the original columns \"Unnamed: 11\" and \"Unnamed: 12\"\n",
        "exasens_df = exasens_df.drop(columns=[\"Unnamed: 11\", \"Unnamed: 12\"])\n",
        "\n",
        "# Display the updated DataFrame\n",
        "print(exasens_df.head())"
      ],
      "metadata": {
        "colab": {
          "base_uri": "https://localhost:8080/"
        },
        "id": "jo9h77-XANT7",
        "outputId": "75cd0db1-a228-42ae-e936-2831d70d2703"
      },
      "execution_count": 31,
      "outputs": [
        {
          "output_type": "stream",
          "name": "stdout",
          "text": [
            "  Diagnosis     ID Imaginary Part    Unnamed: 3 Real Part    Unnamed: 5  \\\n",
            "0       NaN    NaN            NaN           NaN       NaN           NaN   \n",
            "1       NaN    NaN           Min          Avg.       Min          Avg.    \n",
            "2      COPD  301-4        -320.61  -300.5635307   -495.26  -464.1719907   \n",
            "3      COPD  302-3        -325.39  -314.7503595   -473.73  -469.2631404   \n",
            "4      COPD  303-3           -323  -317.4360556   -476.12  -471.8976667   \n",
            "\n",
            "   Gender   Age  Smoking Smoking Status  \n",
            "0     NaN   NaN      NaN            NaN  \n",
            "1     NaN   NaN      NaN            NaN  \n",
            "2    Male  77.0      2.0     Non-smoker  \n",
            "3  Female  72.0      2.0      Ex-smoker  \n",
            "4     NaN  73.0      3.0  Active-smoker  \n"
          ]
        }
      ]
    },
    {
      "cell_type": "code",
      "source": [
        "# Drop the original column \"Unnamed: 3\"\n",
        "exasens_df = exasens_df.drop(columns=[\"Unnamed: 3\"])\n",
        "\n",
        "# Handle missing values in the \"Gender\" and \"Smoking Status\" columns\n",
        "exasens_df[\"Gender\"] = exasens_df[\"Gender\"].fillna(\"Unknown\")\n",
        "exasens_df[\"Smoking Status\"] = exasens_df[\"Smoking Status\"].fillna(\"Unknown\")\n",
        "\n",
        "# Display the updated DataFrame\n",
        "print(exasens_df.head())\n"
      ],
      "metadata": {
        "colab": {
          "base_uri": "https://localhost:8080/"
        },
        "id": "MhX-2dmNARs7",
        "outputId": "726c79da-b3e6-4ad3-af1c-93ba4a80995e"
      },
      "execution_count": 32,
      "outputs": [
        {
          "output_type": "stream",
          "name": "stdout",
          "text": [
            "  Diagnosis     ID Imaginary Part Real Part    Unnamed: 5   Gender   Age  \\\n",
            "0       NaN    NaN            NaN       NaN           NaN  Unknown   NaN   \n",
            "1       NaN    NaN           Min       Min          Avg.   Unknown   NaN   \n",
            "2      COPD  301-4        -320.61   -495.26  -464.1719907     Male  77.0   \n",
            "3      COPD  302-3        -325.39   -473.73  -469.2631404   Female  72.0   \n",
            "4      COPD  303-3           -323   -476.12  -471.8976667  Unknown  73.0   \n",
            "\n",
            "   Smoking Smoking Status  \n",
            "0      NaN        Unknown  \n",
            "1      NaN        Unknown  \n",
            "2      2.0     Non-smoker  \n",
            "3      2.0      Ex-smoker  \n",
            "4      3.0  Active-smoker  \n"
          ]
        }
      ]
    },
    {
      "cell_type": "code",
      "source": [
        "num_columns = exasens_df.shape[1]\n",
        "print(\"Number of columns in the DataFrame:\", num_columns)\n"
      ],
      "metadata": {
        "colab": {
          "base_uri": "https://localhost:8080/"
        },
        "id": "RbQEt_a9AXkb",
        "outputId": "b901fd38-5758-4e08-cc1b-517f82c9f4d0"
      },
      "execution_count": 33,
      "outputs": [
        {
          "output_type": "stream",
          "name": "stdout",
          "text": [
            "Number of columns in the DataFrame: 9\n"
          ]
        }
      ]
    },
    {
      "cell_type": "code",
      "source": [
        "# Select relevant columns for clustering\n",
        "data = exasens_df[['Imaginary Part', 'Real Part', 'Age', 'Smoking']]\n",
        "\n",
        "# Drop rows with any missing values\n",
        "data = data.dropna()\n",
        "\n",
        "# Display the first few rows of the data\n",
        "print(data.head())"
      ],
      "metadata": {
        "colab": {
          "base_uri": "https://localhost:8080/"
        },
        "id": "O77QhhRVAdJh",
        "outputId": "93f61709-569d-41ce-8fc7-51f050c83f2d"
      },
      "execution_count": 34,
      "outputs": [
        {
          "output_type": "stream",
          "name": "stdout",
          "text": [
            "  Imaginary Part Real Part   Age  Smoking\n",
            "2        -320.61   -495.26  77.0      2.0\n",
            "3        -325.39   -473.73  72.0      2.0\n",
            "4           -323   -476.12  73.0      3.0\n",
            "5        -327.78   -473.73  76.0      2.0\n",
            "6        -325.39   -478.52  65.0      2.0\n"
          ]
        }
      ]
    },
    {
      "cell_type": "code",
      "source": [
        "from sklearn.cluster import AgglomerativeClustering\n",
        "#case 1\n",
        "# Define cluster sizes\n",
        "cluster_sizes = [3, 4, 5]\n",
        "\n",
        "# Perform hierarchical clustering and compute evaluation scores for each cluster size\n",
        "for n_clusters in cluster_sizes:\n",
        "    # Hierarchical clustering without data preprocessing\n",
        "    clusterer = AgglomerativeClustering(n_clusters=n_clusters)\n",
        "    labels = clusterer.fit_predict(data)\n",
        "\n",
        "    # Compute evaluation scores\n",
        "    silhouette_score_case1 = silhouette_score(data, labels)\n",
        "    calinski_harabasz_score_case1 = calinski_harabasz_score(data, labels)\n",
        "    davies_bouldin_score_case1 = davies_bouldin_score(data, labels)\n",
        "\n",
        "    # Print evaluation scores\n",
        "    print(f\"Cluster Size: {n_clusters}\")\n",
        "    print(\"Silhouette Score:\", silhouette_score_case1)\n",
        "    print(\"Calinski-Harabasz Score:\", calinski_harabasz_score_case1)\n",
        "    print(\"Davies-Bouldin Score:\", davies_bouldin_score_case1)\n",
        "    print()\n"
      ],
      "metadata": {
        "colab": {
          "base_uri": "https://localhost:8080/"
        },
        "id": "QxTtOmcbo5U2",
        "outputId": "3fe7f60e-9fa2-413f-d029-221da58de0ef"
      },
      "execution_count": 81,
      "outputs": [
        {
          "output_type": "stream",
          "name": "stdout",
          "text": [
            "Cluster Size: 3\n",
            "Silhouette Score: 0.6809951620177085\n",
            "Calinski-Harabasz Score: 158.22879754321895\n",
            "Davies-Bouldin Score: 0.3166580344213665\n",
            "\n",
            "Cluster Size: 4\n",
            "Silhouette Score: 0.46591514307522336\n",
            "Calinski-Harabasz Score: 158.86934917865534\n",
            "Davies-Bouldin Score: 0.7013821812582803\n",
            "\n",
            "Cluster Size: 5\n",
            "Silhouette Score: 0.4560543765199609\n",
            "Calinski-Harabasz Score: 196.48488744981475\n",
            "Davies-Bouldin Score: 0.644263516101366\n",
            "\n"
          ]
        }
      ]
    },
    {
      "cell_type": "code",
      "source": [
        "from sklearn.preprocessing import StandardScaler\n",
        "#case2\n",
        "# Step 1: Normalize the data\n",
        "scaler = StandardScaler()\n",
        "data_normalized = scaler.fit_transform(data)\n",
        "\n",
        "# Define cluster sizes\n",
        "cluster_sizes = [3, 4, 5]\n",
        "\n",
        "# Perform hierarchical clustering and compute evaluation scores for each cluster size\n",
        "for n_clusters in cluster_sizes:\n",
        "    # Hierarchical clustering with data normalization\n",
        "    clusterer = AgglomerativeClustering(n_clusters=n_clusters)\n",
        "    labels = clusterer.fit_predict(data_normalized)\n",
        "\n",
        "    # Compute evaluation scores\n",
        "    silhouette_score_case2 = silhouette_score(data_normalized, labels)\n",
        "    calinski_harabasz_score_case2 = calinski_harabasz_score(data_normalized, labels)\n",
        "    davies_bouldin_score_case2 = davies_bouldin_score(data_normalized, labels)\n",
        "\n",
        "    # Print evaluation scores\n",
        "    print(f\"Cluster Size: {n_clusters}\")\n",
        "    print(\"Silhouette Score:\", silhouette_score_case2)\n",
        "    print(\"Calinski-Harabasz Score:\", calinski_harabasz_score_case2)\n",
        "    print(\"Davies-Bouldin Score:\", davies_bouldin_score_case2)\n",
        "    print()\n"
      ],
      "metadata": {
        "colab": {
          "base_uri": "https://localhost:8080/"
        },
        "id": "QFjfj7ANpFBn",
        "outputId": "92d07bac-2c8e-46a6-f483-9dcf4b895773"
      },
      "execution_count": 82,
      "outputs": [
        {
          "output_type": "stream",
          "name": "stdout",
          "text": [
            "Cluster Size: 3\n",
            "Silhouette Score: 0.48719638809432453\n",
            "Calinski-Harabasz Score: 63.51533603703061\n",
            "Davies-Bouldin Score: 0.8108792413231795\n",
            "\n",
            "Cluster Size: 4\n",
            "Silhouette Score: 0.5044317585807708\n",
            "Calinski-Harabasz Score: 82.78756755013343\n",
            "Davies-Bouldin Score: 0.5770681494530369\n",
            "\n",
            "Cluster Size: 5\n",
            "Silhouette Score: 0.4719870873641092\n",
            "Calinski-Harabasz Score: 92.90322028891832\n",
            "Davies-Bouldin Score: 0.7222329627112438\n",
            "\n"
          ]
        }
      ]
    },
    {
      "cell_type": "code",
      "source": [
        "from sklearn.manifold import TSNE\n",
        "#case 3\n",
        "# Step 1: Apply t-SNE for dimensionality reduction\n",
        "tsne = TSNE(n_components=2, random_state=42)\n",
        "data_transformed = tsne.fit_transform(data)\n",
        "\n",
        "# Define cluster sizes\n",
        "cluster_sizes = [3, 4, 5]\n",
        "\n",
        "# Perform hierarchical clustering and compute evaluation scores for each cluster size\n",
        "for n_clusters in cluster_sizes:\n",
        "    # Hierarchical clustering with data transformation\n",
        "    clusterer = AgglomerativeClustering(n_clusters=n_clusters)\n",
        "    labels = clusterer.fit_predict(data_transformed)\n",
        "\n",
        "    # Compute evaluation scores\n",
        "    silhouette_score_case3 = silhouette_score(data_transformed, labels)\n",
        "    calinski_harabasz_score_case3 = calinski_harabasz_score(data_transformed, labels)\n",
        "    davies_bouldin_score_case3 = davies_bouldin_score(data_transformed, labels)\n",
        "\n",
        "    # Print evaluation scores\n",
        "    print(f\"Cluster Size: {n_clusters}\")\n",
        "    print(\"Silhouette Score:\", silhouette_score_case3)\n",
        "    print(\"Calinski-Harabasz Score:\", calinski_harabasz_score_case3)\n",
        "    print(\"Davies-Bouldin Score:\", davies_bouldin_score_case3)\n",
        "    print()\n"
      ],
      "metadata": {
        "colab": {
          "base_uri": "https://localhost:8080/"
        },
        "id": "-yUov2gepa7g",
        "outputId": "2f816bea-b96a-4dba-a2bf-44841e8273fa"
      },
      "execution_count": 83,
      "outputs": [
        {
          "output_type": "stream",
          "name": "stdout",
          "text": [
            "Cluster Size: 3\n",
            "Silhouette Score: 0.51251394\n",
            "Calinski-Harabasz Score: 121.90938396024809\n",
            "Davies-Bouldin Score: 0.5602781393453417\n",
            "\n",
            "Cluster Size: 4\n",
            "Silhouette Score: 0.5543718\n",
            "Calinski-Harabasz Score: 202.72968542813317\n",
            "Davies-Bouldin Score: 0.669103454237249\n",
            "\n",
            "Cluster Size: 5\n",
            "Silhouette Score: 0.59341735\n",
            "Calinski-Harabasz Score: 263.61786472365606\n",
            "Davies-Bouldin Score: 0.4965002174765741\n",
            "\n"
          ]
        }
      ]
    },
    {
      "cell_type": "code",
      "source": [
        "from sklearn.decomposition import PCA\n",
        "\n",
        "# Step 1: Apply PCA for dimensionality reduction\n",
        "pca = PCA(n_components=2, random_state=42)\n",
        "data_pca = pca.fit_transform(data)\n",
        "\n",
        "# Define cluster sizes\n",
        "cluster_sizes = [3, 4, 5]\n",
        "\n",
        "# Perform hierarchical clustering and compute evaluation scores for each cluster size\n",
        "for n_clusters in cluster_sizes:\n",
        "    # Hierarchical clustering with PCA\n",
        "    clusterer = AgglomerativeClustering(n_clusters=n_clusters)\n",
        "    labels = clusterer.fit_predict(data_pca)\n",
        "\n",
        "    # Compute evaluation scores\n",
        "    silhouette_score_case4 = silhouette_score(data_pca, labels)\n",
        "    calinski_harabasz_score_case4 = calinski_harabasz_score(data_pca, labels)\n",
        "    davies_bouldin_score_case4 = davies_bouldin_score(data_pca, labels)\n",
        "\n",
        "    # Print evaluation scores\n",
        "    print(f\"Cluster Size: {n_clusters}\")\n",
        "    print(\"Silhouette Score:\", silhouette_score_case4)\n",
        "    print(\"Calinski-Harabasz Score:\", calinski_harabasz_score_case4)\n",
        "    print(\"Davies-Bouldin Score:\", davies_bouldin_score_case4)\n",
        "    print()\n"
      ],
      "metadata": {
        "colab": {
          "base_uri": "https://localhost:8080/"
        },
        "id": "jKTMhQ1MpjDd",
        "outputId": "f3f20beb-4fb3-4040-ef0b-9ecc3fa9fc9c"
      },
      "execution_count": 84,
      "outputs": [
        {
          "output_type": "stream",
          "name": "stdout",
          "text": [
            "Cluster Size: 3\n",
            "Silhouette Score: 0.803880554154936\n",
            "Calinski-Harabasz Score: 286.0256700742083\n",
            "Davies-Bouldin Score: 0.16348174949901995\n",
            "\n",
            "Cluster Size: 4\n",
            "Silhouette Score: 0.6957180062185246\n",
            "Calinski-Harabasz Score: 421.7363699368483\n",
            "Davies-Bouldin Score: 0.4337468311920525\n",
            "\n",
            "Cluster Size: 5\n",
            "Silhouette Score: 0.6919304135275811\n",
            "Calinski-Harabasz Score: 750.363207557014\n",
            "Davies-Bouldin Score: 0.3172915071443015\n",
            "\n"
          ]
        }
      ]
    },
    {
      "cell_type": "code",
      "source": [
        "# Step 1: Normalize the data\n",
        "scaler = StandardScaler()\n",
        "data_normalized = scaler.fit_transform(data)\n",
        "\n",
        "# Step 2: Apply PCA for dimensionality reduction\n",
        "pca = PCA(n_components=2, random_state=42)\n",
        "data_normalized_pca = pca.fit_transform(data_normalized)\n",
        "\n",
        "# Define cluster sizes\n",
        "cluster_sizes = [3, 4, 5]\n",
        "\n",
        "# Perform hierarchical clustering and compute evaluation scores for each cluster size\n",
        "for n_clusters in cluster_sizes:\n",
        "    # Hierarchical clustering with data normalization and PCA\n",
        "    clusterer = AgglomerativeClustering(n_clusters=n_clusters)\n",
        "    labels = clusterer.fit_predict(data_normalized_pca)\n",
        "\n",
        "    # Compute evaluation scores\n",
        "    silhouette_score_case5 = silhouette_score(data_normalized_pca, labels)\n",
        "    calinski_harabasz_score_case5 = calinski_harabasz_score(data_normalized_pca, labels)\n",
        "    davies_bouldin_score_case5 = davies_bouldin_score(data_normalized_pca, labels)\n",
        "\n",
        "    # Print evaluation scores\n",
        "    print(f\"Cluster Size: {n_clusters}\")\n",
        "    print(\"Silhouette Score:\", silhouette_score_case5)\n",
        "    print(\"Calinski-Harabasz Score:\", calinski_harabasz_score_case5)\n",
        "    print(\"Davies-Bouldin Score:\", davies_bouldin_score_case5)\n",
        "    print()\n"
      ],
      "metadata": {
        "colab": {
          "base_uri": "https://localhost:8080/"
        },
        "id": "-oHuy1lPprt2",
        "outputId": "07269bac-51c3-44f8-8502-d3393c1fa0f9"
      },
      "execution_count": 85,
      "outputs": [
        {
          "output_type": "stream",
          "name": "stdout",
          "text": [
            "Cluster Size: 3\n",
            "Silhouette Score: 0.6347578334659718\n",
            "Calinski-Harabasz Score: 145.09367244483911\n",
            "Davies-Bouldin Score: 0.5867486004984078\n",
            "\n",
            "Cluster Size: 4\n",
            "Silhouette Score: 0.6452399656367522\n",
            "Calinski-Harabasz Score: 172.90961717559352\n",
            "Davies-Bouldin Score: 0.4407006499776256\n",
            "\n",
            "Cluster Size: 5\n",
            "Silhouette Score: 0.6649749983101734\n",
            "Calinski-Harabasz Score: 182.05243838683546\n",
            "Davies-Bouldin Score: 0.3159913074119944\n",
            "\n"
          ]
        }
      ]
    },
    {
      "cell_type": "code",
      "source": [
        "# Step 1: Normalize the data\n",
        "scaler = StandardScaler()\n",
        "data_normalized = scaler.fit_transform(data)\n",
        "\n",
        "# Step 2: Apply t-SNE for dimensionality reduction\n",
        "tsne = TSNE(n_components=2, random_state=42)\n",
        "data_transformed = tsne.fit_transform(data_normalized)\n",
        "\n",
        "# Step 3: Apply PCA for further dimensionality reduction\n",
        "pca = PCA(n_components=2, random_state=42)\n",
        "data_normalized_pca = pca.fit_transform(data_transformed)\n",
        "\n",
        "# Define cluster sizes\n",
        "cluster_sizes = [3, 4, 5]\n",
        "\n",
        "# Perform hierarchical clustering and compute evaluation scores for each cluster size\n",
        "for n_clusters in cluster_sizes:\n",
        "    # Hierarchical clustering with data normalization, transformation (t-SNE), and PCA\n",
        "    clusterer = AgglomerativeClustering(n_clusters=n_clusters)\n",
        "    labels = clusterer.fit_predict(data_normalized_pca)\n",
        "\n",
        "    # Compute evaluation scores\n",
        "    silhouette_score_case6 = silhouette_score(data_normalized_pca, labels)\n",
        "    calinski_harabasz_score_case6 = calinski_harabasz_score(data_normalized_pca, labels)\n",
        "    davies_bouldin_score_case6 = davies_bouldin_score(data_normalized_pca, labels)\n",
        "\n",
        "    # Print evaluation scores\n",
        "    print(f\"Cluster Size: {n_clusters}\")\n",
        "    print(\"Silhouette Score:\", silhouette_score_case6)\n",
        "    print(\"Calinski-Harabasz Score:\", calinski_harabasz_score_case6)\n",
        "    print(\"Davies-Bouldin Score:\", davies_bouldin_score_case6)\n",
        "    print()\n"
      ],
      "metadata": {
        "colab": {
          "base_uri": "https://localhost:8080/"
        },
        "id": "ktK77VmTp1b1",
        "outputId": "2a292fd1-1779-4f19-e34a-18089e37f690"
      },
      "execution_count": 93,
      "outputs": [
        {
          "output_type": "stream",
          "name": "stdout",
          "text": [
            "Cluster Size: 3\n",
            "Silhouette Score: 0.6312269\n",
            "Calinski-Harabasz Score: 262.50280170466186\n",
            "Davies-Bouldin Score: 0.42876812694379357\n",
            "\n",
            "Cluster Size: 4\n",
            "Silhouette Score: 0.63441366\n",
            "Calinski-Harabasz Score: 367.84434808619426\n",
            "Davies-Bouldin Score: 0.54910967568382\n",
            "\n",
            "Cluster Size: 5\n",
            "Silhouette Score: 0.67512\n",
            "Calinski-Harabasz Score: 430.81585919079686\n",
            "Davies-Bouldin Score: 0.4020903218916816\n",
            "\n"
          ]
        }
      ]
    },
    {
      "cell_type": "code",
      "source": [
        "from tabulate import tabulate\n",
        "# Define the column names\n",
        "column_names = [\n",
        "   \"Parameter\"\n",
        "]\n",
        "# Define the column names\n",
        "column_names = [\n",
        "   \"\",\"c=3\",\"c=4\",\"c=5\",\"c=3\",\"c=4\",\"c=5\",\"c=3\",\"c=4\",\"c=5\",\"c=3\",\"c=4\",\"c=5\",\"c=3\",\"c=4\",\"c=5\",\"c=3\",\"c=4\",\"c=5\"\n",
        "]\n",
        "\n",
        "# Create an empty list to store the table data\n",
        "table_data = []\n",
        "\n",
        "# Add rows to the table data\n",
        "# These are just the first few rows as an example, replace with your own values\n",
        "\n",
        "table_data.append([\"Silhouette\",  0.68, 0.46, 0.45, 0.48, 0.50,0.47 ,0.51,0.55,0.59, 0.80,0.69,0.69,0.63,0.64, 0.66,0.63,0.63,0.67])\n",
        "table_data.append([\"Calinski-Harabasz\", 158.22, 158.86, 196.48,63.51,82.78,92.90,121.90,202.72,263.61,286.02,421.73,750.36,145.09,172.90,182.05,262.50,367.84,430.81 ])\n",
        "table_data.append([\"Davies-Bouldin\", 0.31, 0.70, 0.64, 0.81, 0.57, 0.72,0.56,0.66,0.49,0.16, 0.43,0.31,0.58,0.44,0.31,0.42,0.54,0.40 ])\n",
        "# ... Add more rows with your values here ...\n",
        "\n",
        "\n",
        "# Print the table with headers and column alignments\n",
        "print(tabulate(table_data, headers=column_names, tablefmt=\"grid\"))\n"
      ],
      "metadata": {
        "colab": {
          "base_uri": "https://localhost:8080/"
        },
        "id": "s_LP6ytSNMBW",
        "outputId": "92e097f6-fc65-4621-fc33-1d90fe8f21f5"
      },
      "execution_count": 39,
      "outputs": [
        {
          "output_type": "stream",
          "name": "stdout",
          "text": [
            "+-------------------+--------+--------+--------+-------+-------+-------+--------+--------+--------+--------+--------+--------+--------+--------+--------+--------+--------+--------+\n",
            "|                   |    c=3 |    c=4 |    c=5 |   c=3 |   c=4 |   c=5 |    c=3 |    c=4 |    c=5 |    c=3 |    c=4 |    c=5 |    c=3 |    c=4 |    c=5 |    c=3 |    c=4 |    c=5 |\n",
            "+===================+========+========+========+=======+=======+=======+========+========+========+========+========+========+========+========+========+========+========+========+\n",
            "| Silhouette        |   0.68 |   0.46 |   0.45 |  0.48 |  0.5  |  0.47 |   0.51 |   0.55 |   0.59 |   0.8  |   0.69 |   0.69 |   0.63 |   0.64 |   0.66 |   0.63 |   0.63 |   0.67 |\n",
            "+-------------------+--------+--------+--------+-------+-------+-------+--------+--------+--------+--------+--------+--------+--------+--------+--------+--------+--------+--------+\n",
            "| Calinski-Harabasz | 158.22 | 158.86 | 196.48 | 63.51 | 82.78 | 92.9  | 121.9  | 202.72 | 263.61 | 286.02 | 421.73 | 750.36 | 145.09 | 172.9  | 182.05 | 262.5  | 367.84 | 430.81 |\n",
            "+-------------------+--------+--------+--------+-------+-------+-------+--------+--------+--------+--------+--------+--------+--------+--------+--------+--------+--------+--------+\n",
            "| Davies-Bouldin    |   0.31 |   0.7  |   0.64 |  0.81 |  0.57 |  0.72 |   0.56 |   0.66 |   0.49 |   0.16 |   0.43 |   0.31 |   0.58 |   0.44 |   0.31 |   0.42 |   0.54 |   0.4  |\n",
            "+-------------------+--------+--------+--------+-------+-------+-------+--------+--------+--------+--------+--------+--------+--------+--------+--------+--------+--------+--------+\n"
          ]
        }
      ]
    }
  ]
}